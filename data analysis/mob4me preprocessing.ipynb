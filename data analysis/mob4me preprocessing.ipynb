{
 "cells": [
  {
   "cell_type": "code",
   "execution_count": 1,
   "id": "a9029bac",
   "metadata": {},
   "outputs": [],
   "source": [
    "import pandas as pd\n",
    "import numpy as np\n",
    "import matplotlib.pyplot as plt\n",
    "import seaborn as sns"
   ]
  },
  {
   "cell_type": "markdown",
   "id": "571ef1aa",
   "metadata": {},
   "source": [
    "### importing data"
   ]
  },
  {
   "cell_type": "code",
   "execution_count": 7,
   "id": "ad29843f",
   "metadata": {},
   "outputs": [],
   "source": [
    "first_df = pd.read_excel('../data_scraping/samsung_huawei_oppo.xlsx')\n",
    "second_df = pd.read_excel('../data_scraping/vivo_realme.xlsx')"
   ]
  },
  {
   "cell_type": "code",
   "execution_count": 8,
   "id": "61ba0b72",
   "metadata": {},
   "outputs": [
    {
     "data": {
      "text/html": [
       "<div>\n",
       "<style scoped>\n",
       "    .dataframe tbody tr th:only-of-type {\n",
       "        vertical-align: middle;\n",
       "    }\n",
       "\n",
       "    .dataframe tbody tr th {\n",
       "        vertical-align: top;\n",
       "    }\n",
       "\n",
       "    .dataframe thead th {\n",
       "        text-align: right;\n",
       "    }\n",
       "</style>\n",
       "<table border=\"1\" class=\"dataframe\">\n",
       "  <thead>\n",
       "    <tr style=\"text-align: right;\">\n",
       "      <th></th>\n",
       "      <th>name</th>\n",
       "      <th>brand</th>\n",
       "      <th>front_camera</th>\n",
       "      <th>back_camera</th>\n",
       "      <th>screen_size</th>\n",
       "      <th>RAM</th>\n",
       "      <th>Memory</th>\n",
       "      <th>Battery</th>\n",
       "      <th>URL</th>\n",
       "      <th>price</th>\n",
       "    </tr>\n",
       "  </thead>\n",
       "  <tbody>\n",
       "    <tr>\n",
       "      <th>0</th>\n",
       "      <td>samsung galaxy a24 4g</td>\n",
       "      <td>samsung</td>\n",
       "      <td>13 MP, f/2.2, (wide)</td>\n",
       "      <td>50</td>\n",
       "      <td>\\n                                            ...</td>\n",
       "      <td>6 GB</td>\n",
       "      <td>128GB 6GB RAM, 128GB 8GB RAM</td>\n",
       "      <td>Li-Po 5000 mAh</td>\n",
       "      <td>https://mob4me.com/samsung-galaxy-a24-4g</td>\n",
       "      <td>6767.0</td>\n",
       "    </tr>\n",
       "    <tr>\n",
       "      <th>1</th>\n",
       "      <td>samsung galaxy a14</td>\n",
       "      <td>samsung</td>\n",
       "      <td>13 MP, f/2.0, (wide)</td>\n",
       "      <td>50</td>\n",
       "      <td>\\n                                            ...</td>\n",
       "      <td>6 GB</td>\n",
       "      <td>64GB 4GB RAM, 128GB 4GB RAM, 128GB 6GB RAM</td>\n",
       "      <td>Li-Po 5000 mAh</td>\n",
       "      <td>https://mob4me.com/samsung-galaxy-a14</td>\n",
       "      <td>5250.0</td>\n",
       "    </tr>\n",
       "    <tr>\n",
       "      <th>2</th>\n",
       "      <td>samsung galaxy a34</td>\n",
       "      <td>samsung</td>\n",
       "      <td>13 MP, f/2.2, (wide), 1/3.1\", 1.12µm</td>\n",
       "      <td>48</td>\n",
       "      <td>\\n                                            ...</td>\n",
       "      <td>6 GB</td>\n",
       "      <td>128GB 6GB RAM, 128GB 8GB RAM, 256GB 8GB RAM</td>\n",
       "      <td>Li-Po 5000 mAh</td>\n",
       "      <td>https://mob4me.com/samsung-galaxy-a34</td>\n",
       "      <td>13299.0</td>\n",
       "    </tr>\n",
       "    <tr>\n",
       "      <th>3</th>\n",
       "      <td>samsung galaxy a54</td>\n",
       "      <td>samsung</td>\n",
       "      <td>32 MP, f/2.2, 26mm (wide), 1/2.8\", 0.8µm</td>\n",
       "      <td>50</td>\n",
       "      <td>\\n                                            ...</td>\n",
       "      <td>6 GB</td>\n",
       "      <td>128GB 6GB RAM, 128GB 8GB RAM, 256GB 8GB RAM</td>\n",
       "      <td>Li-Po 5000 mAh</td>\n",
       "      <td>https://mob4me.com/samsung-galaxy-a54</td>\n",
       "      <td>16999.0</td>\n",
       "    </tr>\n",
       "    <tr>\n",
       "      <th>4</th>\n",
       "      <td>samsung galaxy a04e</td>\n",
       "      <td>samsung</td>\n",
       "      <td>5 MP, f/2.2</td>\n",
       "      <td>13</td>\n",
       "      <td>\\n                                            ...</td>\n",
       "      <td>3 GB</td>\n",
       "      <td>32GB 3GB RAM, 64GB 3GB RAM</td>\n",
       "      <td>Li-Po 5000 mAh</td>\n",
       "      <td>https://mob4me.com/samsung-galaxy-a04e</td>\n",
       "      <td>3990.0</td>\n",
       "    </tr>\n",
       "  </tbody>\n",
       "</table>\n",
       "</div>"
      ],
      "text/plain": [
       "                    name    brand                              front_camera  \\\n",
       "0  samsung galaxy a24 4g  samsung                      13 MP, f/2.2, (wide)   \n",
       "1     samsung galaxy a14  samsung                      13 MP, f/2.0, (wide)   \n",
       "2     samsung galaxy a34  samsung      13 MP, f/2.2, (wide), 1/3.1\", 1.12µm   \n",
       "3     samsung galaxy a54  samsung  32 MP, f/2.2, 26mm (wide), 1/2.8\", 0.8µm   \n",
       "4    samsung galaxy a04e  samsung                               5 MP, f/2.2   \n",
       "\n",
       "  back_camera                                        screen_size   RAM  \\\n",
       "0          50  \\n                                            ...  6 GB   \n",
       "1          50  \\n                                            ...  6 GB   \n",
       "2          48  \\n                                            ...  6 GB   \n",
       "3          50  \\n                                            ...  6 GB   \n",
       "4          13  \\n                                            ...  3 GB   \n",
       "\n",
       "                                        Memory          Battery  \\\n",
       "0                 128GB 6GB RAM, 128GB 8GB RAM   Li-Po 5000 mAh   \n",
       "1   64GB 4GB RAM, 128GB 4GB RAM, 128GB 6GB RAM   Li-Po 5000 mAh   \n",
       "2  128GB 6GB RAM, 128GB 8GB RAM, 256GB 8GB RAM   Li-Po 5000 mAh   \n",
       "3  128GB 6GB RAM, 128GB 8GB RAM, 256GB 8GB RAM   Li-Po 5000 mAh   \n",
       "4                   32GB 3GB RAM, 64GB 3GB RAM   Li-Po 5000 mAh   \n",
       "\n",
       "                                        URL    price  \n",
       "0  https://mob4me.com/samsung-galaxy-a24-4g   6767.0  \n",
       "1     https://mob4me.com/samsung-galaxy-a14   5250.0  \n",
       "2     https://mob4me.com/samsung-galaxy-a34  13299.0  \n",
       "3     https://mob4me.com/samsung-galaxy-a54  16999.0  \n",
       "4    https://mob4me.com/samsung-galaxy-a04e   3990.0  "
      ]
     },
     "execution_count": 8,
     "metadata": {},
     "output_type": "execute_result"
    }
   ],
   "source": [
    "df = pd.concat([first_df,second_df])\n",
    "df.head()"
   ]
  },
  {
   "cell_type": "code",
   "execution_count": 9,
   "id": "dc5cbd90",
   "metadata": {},
   "outputs": [
    {
     "name": "stdout",
     "output_type": "stream",
     "text": [
      "<class 'pandas.core.frame.DataFrame'>\n",
      "Int64Index: 516 entries, 0 to 88\n",
      "Data columns (total 10 columns):\n",
      " #   Column        Non-Null Count  Dtype  \n",
      "---  ------        --------------  -----  \n",
      " 0   name          516 non-null    object \n",
      " 1   brand         516 non-null    object \n",
      " 2   front_camera  516 non-null    object \n",
      " 3   back_camera   516 non-null    object \n",
      " 4   screen_size   516 non-null    object \n",
      " 5   RAM           516 non-null    object \n",
      " 6   Memory        516 non-null    object \n",
      " 7   Battery       516 non-null    object \n",
      " 8   URL           516 non-null    object \n",
      " 9   price         90 non-null     float64\n",
      "dtypes: float64(1), object(9)\n",
      "memory usage: 44.3+ KB\n"
     ]
    }
   ],
   "source": [
    "df.info()"
   ]
  },
  {
   "cell_type": "markdown",
   "id": "7912d402",
   "metadata": {},
   "source": [
    "## data preprocessing"
   ]
  },
  {
   "cell_type": "code",
   "execution_count": 21,
   "id": "e6080a9a",
   "metadata": {},
   "outputs": [],
   "source": [
    "df = df[df['price']>0]"
   ]
  },
  {
   "cell_type": "code",
   "execution_count": 33,
   "id": "3cded89b",
   "metadata": {},
   "outputs": [
    {
     "data": {
      "text/html": [
       "<div>\n",
       "<style scoped>\n",
       "    .dataframe tbody tr th:only-of-type {\n",
       "        vertical-align: middle;\n",
       "    }\n",
       "\n",
       "    .dataframe tbody tr th {\n",
       "        vertical-align: top;\n",
       "    }\n",
       "\n",
       "    .dataframe thead th {\n",
       "        text-align: right;\n",
       "    }\n",
       "</style>\n",
       "<table border=\"1\" class=\"dataframe\">\n",
       "  <thead>\n",
       "    <tr style=\"text-align: right;\">\n",
       "      <th></th>\n",
       "      <th>name</th>\n",
       "      <th>brand</th>\n",
       "      <th>front_camera</th>\n",
       "      <th>back_camera</th>\n",
       "      <th>screen_size</th>\n",
       "      <th>RAM</th>\n",
       "      <th>Memory</th>\n",
       "      <th>Battery</th>\n",
       "      <th>URL</th>\n",
       "      <th>price</th>\n",
       "    </tr>\n",
       "  </thead>\n",
       "  <tbody>\n",
       "    <tr>\n",
       "      <th>0</th>\n",
       "      <td>samsung galaxy a24 4g</td>\n",
       "      <td>samsung</td>\n",
       "      <td>13 MP, f/2.2, (wide)</td>\n",
       "      <td>50</td>\n",
       "      <td>6.5 بوصة</td>\n",
       "      <td>6 GB</td>\n",
       "      <td>128GB 6GB RAM, 128GB 8GB RAM</td>\n",
       "      <td>Li-Po 5000 mAh</td>\n",
       "      <td>https://mob4me.com/samsung-galaxy-a24-4g</td>\n",
       "      <td>6767.0</td>\n",
       "    </tr>\n",
       "    <tr>\n",
       "      <th>1</th>\n",
       "      <td>samsung galaxy a14</td>\n",
       "      <td>samsung</td>\n",
       "      <td>13 MP, f/2.0, (wide)</td>\n",
       "      <td>50</td>\n",
       "      <td>6.6 بوصة</td>\n",
       "      <td>6 GB</td>\n",
       "      <td>64GB 4GB RAM, 128GB 4GB RAM, 128GB 6GB RAM</td>\n",
       "      <td>Li-Po 5000 mAh</td>\n",
       "      <td>https://mob4me.com/samsung-galaxy-a14</td>\n",
       "      <td>5250.0</td>\n",
       "    </tr>\n",
       "    <tr>\n",
       "      <th>2</th>\n",
       "      <td>samsung galaxy a34</td>\n",
       "      <td>samsung</td>\n",
       "      <td>13 MP, f/2.2, (wide), 1/3.1\", 1.12µm</td>\n",
       "      <td>48</td>\n",
       "      <td>6.6 بوصة</td>\n",
       "      <td>6 GB</td>\n",
       "      <td>128GB 6GB RAM, 128GB 8GB RAM, 256GB 8GB RAM</td>\n",
       "      <td>Li-Po 5000 mAh</td>\n",
       "      <td>https://mob4me.com/samsung-galaxy-a34</td>\n",
       "      <td>13299.0</td>\n",
       "    </tr>\n",
       "    <tr>\n",
       "      <th>3</th>\n",
       "      <td>samsung galaxy a54</td>\n",
       "      <td>samsung</td>\n",
       "      <td>32 MP, f/2.2, 26mm (wide), 1/2.8\", 0.8µm</td>\n",
       "      <td>50</td>\n",
       "      <td>6.4 بوصة</td>\n",
       "      <td>6 GB</td>\n",
       "      <td>128GB 6GB RAM, 128GB 8GB RAM, 256GB 8GB RAM</td>\n",
       "      <td>Li-Po 5000 mAh</td>\n",
       "      <td>https://mob4me.com/samsung-galaxy-a54</td>\n",
       "      <td>16999.0</td>\n",
       "    </tr>\n",
       "    <tr>\n",
       "      <th>4</th>\n",
       "      <td>samsung galaxy a04e</td>\n",
       "      <td>samsung</td>\n",
       "      <td>5 MP, f/2.2</td>\n",
       "      <td>13</td>\n",
       "      <td>6.5 بوصة</td>\n",
       "      <td>3 GB</td>\n",
       "      <td>32GB 3GB RAM, 64GB 3GB RAM</td>\n",
       "      <td>Li-Po 5000 mAh</td>\n",
       "      <td>https://mob4me.com/samsung-galaxy-a04e</td>\n",
       "      <td>3990.0</td>\n",
       "    </tr>\n",
       "  </tbody>\n",
       "</table>\n",
       "</div>"
      ],
      "text/plain": [
       "                    name    brand                              front_camera  \\\n",
       "0  samsung galaxy a24 4g  samsung                      13 MP, f/2.2, (wide)   \n",
       "1     samsung galaxy a14  samsung                      13 MP, f/2.0, (wide)   \n",
       "2     samsung galaxy a34  samsung      13 MP, f/2.2, (wide), 1/3.1\", 1.12µm   \n",
       "3     samsung galaxy a54  samsung  32 MP, f/2.2, 26mm (wide), 1/2.8\", 0.8µm   \n",
       "4    samsung galaxy a04e  samsung                               5 MP, f/2.2   \n",
       "\n",
       "  back_camera screen_size   RAM                                       Memory  \\\n",
       "0          50    6.5 بوصة  6 GB                 128GB 6GB RAM, 128GB 8GB RAM   \n",
       "1          50    6.6 بوصة  6 GB   64GB 4GB RAM, 128GB 4GB RAM, 128GB 6GB RAM   \n",
       "2          48    6.6 بوصة  6 GB  128GB 6GB RAM, 128GB 8GB RAM, 256GB 8GB RAM   \n",
       "3          50    6.4 بوصة  6 GB  128GB 6GB RAM, 128GB 8GB RAM, 256GB 8GB RAM   \n",
       "4          13    6.5 بوصة  3 GB                   32GB 3GB RAM, 64GB 3GB RAM   \n",
       "\n",
       "           Battery                                       URL    price  \n",
       "0   Li-Po 5000 mAh  https://mob4me.com/samsung-galaxy-a24-4g   6767.0  \n",
       "1   Li-Po 5000 mAh     https://mob4me.com/samsung-galaxy-a14   5250.0  \n",
       "2   Li-Po 5000 mAh     https://mob4me.com/samsung-galaxy-a34  13299.0  \n",
       "3   Li-Po 5000 mAh     https://mob4me.com/samsung-galaxy-a54  16999.0  \n",
       "4   Li-Po 5000 mAh    https://mob4me.com/samsung-galaxy-a04e   3990.0  "
      ]
     },
     "execution_count": 33,
     "metadata": {},
     "output_type": "execute_result"
    }
   ],
   "source": [
    "df.screen_size = df.screen_size.apply(lambda x:x.replace('\\n','').strip())\n",
    "df.head()"
   ]
  },
  {
   "cell_type": "code",
   "execution_count": 34,
   "id": "8f69ccee",
   "metadata": {},
   "outputs": [
    {
     "data": {
      "text/html": [
       "<div>\n",
       "<style scoped>\n",
       "    .dataframe tbody tr th:only-of-type {\n",
       "        vertical-align: middle;\n",
       "    }\n",
       "\n",
       "    .dataframe tbody tr th {\n",
       "        vertical-align: top;\n",
       "    }\n",
       "\n",
       "    .dataframe thead th {\n",
       "        text-align: right;\n",
       "    }\n",
       "</style>\n",
       "<table border=\"1\" class=\"dataframe\">\n",
       "  <thead>\n",
       "    <tr style=\"text-align: right;\">\n",
       "      <th></th>\n",
       "      <th>name</th>\n",
       "      <th>brand</th>\n",
       "      <th>front_camera</th>\n",
       "      <th>back_camera</th>\n",
       "      <th>screen_size</th>\n",
       "      <th>RAM</th>\n",
       "      <th>Memory</th>\n",
       "      <th>Battery</th>\n",
       "      <th>URL</th>\n",
       "      <th>price</th>\n",
       "    </tr>\n",
       "  </thead>\n",
       "  <tbody>\n",
       "    <tr>\n",
       "      <th>0</th>\n",
       "      <td>samsung galaxy a24 4g</td>\n",
       "      <td>samsung</td>\n",
       "      <td>13 MP, f/2.2, (wide)</td>\n",
       "      <td>50</td>\n",
       "      <td>6.5</td>\n",
       "      <td>6 GB</td>\n",
       "      <td>128GB 6GB RAM, 128GB 8GB RAM</td>\n",
       "      <td>Li-Po 5000 mAh</td>\n",
       "      <td>https://mob4me.com/samsung-galaxy-a24-4g</td>\n",
       "      <td>6767.0</td>\n",
       "    </tr>\n",
       "    <tr>\n",
       "      <th>1</th>\n",
       "      <td>samsung galaxy a14</td>\n",
       "      <td>samsung</td>\n",
       "      <td>13 MP, f/2.0, (wide)</td>\n",
       "      <td>50</td>\n",
       "      <td>6.6</td>\n",
       "      <td>6 GB</td>\n",
       "      <td>64GB 4GB RAM, 128GB 4GB RAM, 128GB 6GB RAM</td>\n",
       "      <td>Li-Po 5000 mAh</td>\n",
       "      <td>https://mob4me.com/samsung-galaxy-a14</td>\n",
       "      <td>5250.0</td>\n",
       "    </tr>\n",
       "    <tr>\n",
       "      <th>2</th>\n",
       "      <td>samsung galaxy a34</td>\n",
       "      <td>samsung</td>\n",
       "      <td>13 MP, f/2.2, (wide), 1/3.1\", 1.12µm</td>\n",
       "      <td>48</td>\n",
       "      <td>6.6</td>\n",
       "      <td>6 GB</td>\n",
       "      <td>128GB 6GB RAM, 128GB 8GB RAM, 256GB 8GB RAM</td>\n",
       "      <td>Li-Po 5000 mAh</td>\n",
       "      <td>https://mob4me.com/samsung-galaxy-a34</td>\n",
       "      <td>13299.0</td>\n",
       "    </tr>\n",
       "    <tr>\n",
       "      <th>3</th>\n",
       "      <td>samsung galaxy a54</td>\n",
       "      <td>samsung</td>\n",
       "      <td>32 MP, f/2.2, 26mm (wide), 1/2.8\", 0.8µm</td>\n",
       "      <td>50</td>\n",
       "      <td>6.4</td>\n",
       "      <td>6 GB</td>\n",
       "      <td>128GB 6GB RAM, 128GB 8GB RAM, 256GB 8GB RAM</td>\n",
       "      <td>Li-Po 5000 mAh</td>\n",
       "      <td>https://mob4me.com/samsung-galaxy-a54</td>\n",
       "      <td>16999.0</td>\n",
       "    </tr>\n",
       "    <tr>\n",
       "      <th>4</th>\n",
       "      <td>samsung galaxy a04e</td>\n",
       "      <td>samsung</td>\n",
       "      <td>5 MP, f/2.2</td>\n",
       "      <td>13</td>\n",
       "      <td>6.5</td>\n",
       "      <td>3 GB</td>\n",
       "      <td>32GB 3GB RAM, 64GB 3GB RAM</td>\n",
       "      <td>Li-Po 5000 mAh</td>\n",
       "      <td>https://mob4me.com/samsung-galaxy-a04e</td>\n",
       "      <td>3990.0</td>\n",
       "    </tr>\n",
       "  </tbody>\n",
       "</table>\n",
       "</div>"
      ],
      "text/plain": [
       "                    name    brand                              front_camera  \\\n",
       "0  samsung galaxy a24 4g  samsung                      13 MP, f/2.2, (wide)   \n",
       "1     samsung galaxy a14  samsung                      13 MP, f/2.0, (wide)   \n",
       "2     samsung galaxy a34  samsung      13 MP, f/2.2, (wide), 1/3.1\", 1.12µm   \n",
       "3     samsung galaxy a54  samsung  32 MP, f/2.2, 26mm (wide), 1/2.8\", 0.8µm   \n",
       "4    samsung galaxy a04e  samsung                               5 MP, f/2.2   \n",
       "\n",
       "  back_camera  screen_size   RAM                                       Memory  \\\n",
       "0          50          6.5  6 GB                 128GB 6GB RAM, 128GB 8GB RAM   \n",
       "1          50          6.6  6 GB   64GB 4GB RAM, 128GB 4GB RAM, 128GB 6GB RAM   \n",
       "2          48          6.6  6 GB  128GB 6GB RAM, 128GB 8GB RAM, 256GB 8GB RAM   \n",
       "3          50          6.4  6 GB  128GB 6GB RAM, 128GB 8GB RAM, 256GB 8GB RAM   \n",
       "4          13          6.5  3 GB                   32GB 3GB RAM, 64GB 3GB RAM   \n",
       "\n",
       "           Battery                                       URL    price  \n",
       "0   Li-Po 5000 mAh  https://mob4me.com/samsung-galaxy-a24-4g   6767.0  \n",
       "1   Li-Po 5000 mAh     https://mob4me.com/samsung-galaxy-a14   5250.0  \n",
       "2   Li-Po 5000 mAh     https://mob4me.com/samsung-galaxy-a34  13299.0  \n",
       "3   Li-Po 5000 mAh     https://mob4me.com/samsung-galaxy-a54  16999.0  \n",
       "4   Li-Po 5000 mAh    https://mob4me.com/samsung-galaxy-a04e   3990.0  "
      ]
     },
     "execution_count": 34,
     "metadata": {},
     "output_type": "execute_result"
    }
   ],
   "source": [
    "df.screen_size = df.screen_size.apply(lambda x:x.replace('بوصة','')).astype(floatt)\n",
    "df.head()"
   ]
  },
  {
   "cell_type": "code",
   "execution_count": 35,
   "id": "fd02957e",
   "metadata": {},
   "outputs": [],
   "source": [
    "df.front_camera = df.front_camera.apply(lambda x:x.split(' ')[0]).astype(float)"
   ]
  },
  {
   "cell_type": "code",
   "execution_count": 36,
   "id": "45a49ff7",
   "metadata": {},
   "outputs": [
    {
     "name": "stdout",
     "output_type": "stream",
     "text": [
      "<class 'pandas.core.frame.DataFrame'>\n",
      "Int64Index: 90 entries, 0 to 67\n",
      "Data columns (total 10 columns):\n",
      " #   Column        Non-Null Count  Dtype  \n",
      "---  ------        --------------  -----  \n",
      " 0   name          90 non-null     object \n",
      " 1   brand         90 non-null     object \n",
      " 2   front_camera  90 non-null     float64\n",
      " 3   back_camera   90 non-null     object \n",
      " 4   screen_size   90 non-null     float64\n",
      " 5   RAM           90 non-null     object \n",
      " 6   Memory        90 non-null     object \n",
      " 7   Battery       90 non-null     object \n",
      " 8   URL           90 non-null     object \n",
      " 9   price         90 non-null     float64\n",
      "dtypes: float64(3), object(7)\n",
      "memory usage: 9.8+ KB\n"
     ]
    }
   ],
   "source": [
    "df.info()"
   ]
  },
  {
   "cell_type": "code",
   "execution_count": 47,
   "id": "f2011161",
   "metadata": {},
   "outputs": [
    {
     "data": {
      "text/html": [
       "<div>\n",
       "<style scoped>\n",
       "    .dataframe tbody tr th:only-of-type {\n",
       "        vertical-align: middle;\n",
       "    }\n",
       "\n",
       "    .dataframe tbody tr th {\n",
       "        vertical-align: top;\n",
       "    }\n",
       "\n",
       "    .dataframe thead th {\n",
       "        text-align: right;\n",
       "    }\n",
       "</style>\n",
       "<table border=\"1\" class=\"dataframe\">\n",
       "  <thead>\n",
       "    <tr style=\"text-align: right;\">\n",
       "      <th></th>\n",
       "      <th>name</th>\n",
       "      <th>brand</th>\n",
       "      <th>front_camera</th>\n",
       "      <th>back_camera</th>\n",
       "      <th>screen_size</th>\n",
       "      <th>RAM</th>\n",
       "      <th>Memory</th>\n",
       "      <th>Battery</th>\n",
       "      <th>URL</th>\n",
       "      <th>price</th>\n",
       "    </tr>\n",
       "  </thead>\n",
       "  <tbody>\n",
       "    <tr>\n",
       "      <th>16</th>\n",
       "      <td>samsung galaxy a03</td>\n",
       "      <td>samsung</td>\n",
       "      <td>5.0</td>\n",
       "      <td>48</td>\n",
       "      <td>6.5</td>\n",
       "      <td>Not Found</td>\n",
       "      <td>32GB 4GB RAM, 64GB 4GB RAM, 128GB 4GB RAM</td>\n",
       "      <td>Li-Po 5000 mAh, غير قابلة للازالة</td>\n",
       "      <td>https://mob4me.com/samsung-galaxy-a03</td>\n",
       "      <td>4040.0</td>\n",
       "    </tr>\n",
       "    <tr>\n",
       "      <th>23</th>\n",
       "      <td>samsung galaxy m12</td>\n",
       "      <td>samsung</td>\n",
       "      <td>8.0</td>\n",
       "      <td>48</td>\n",
       "      <td>6.5</td>\n",
       "      <td>Not Found</td>\n",
       "      <td>32GB 3GB RAM, 64GB 4GB RAM, 128GB 4GB RAM</td>\n",
       "      <td>Li-Po 5000 mAh غير قابلة للازالة  ,شحن سريع</td>\n",
       "      <td>https://mob4me.com/samsung-galaxy-m12</td>\n",
       "      <td>5000.0</td>\n",
       "    </tr>\n",
       "  </tbody>\n",
       "</table>\n",
       "</div>"
      ],
      "text/plain": [
       "                  name    brand  front_camera back_camera  screen_size  \\\n",
       "16  samsung galaxy a03  samsung           5.0          48          6.5   \n",
       "23  samsung galaxy m12  samsung           8.0          48          6.5   \n",
       "\n",
       "          RAM                                     Memory  \\\n",
       "16  Not Found  32GB 4GB RAM, 64GB 4GB RAM, 128GB 4GB RAM   \n",
       "23  Not Found  32GB 3GB RAM, 64GB 4GB RAM, 128GB 4GB RAM   \n",
       "\n",
       "                                         Battery  \\\n",
       "16             Li-Po 5000 mAh, غير قابلة للازالة   \n",
       "23   Li-Po 5000 mAh غير قابلة للازالة  ,شحن سريع   \n",
       "\n",
       "                                      URL   price  \n",
       "16  https://mob4me.com/samsung-galaxy-a03  4040.0  \n",
       "23  https://mob4me.com/samsung-galaxy-m12  5000.0  "
      ]
     },
     "execution_count": 47,
     "metadata": {},
     "output_type": "execute_result"
    }
   ],
   "source": [
    "df[df['RAM'].str.contains('Not')]"
   ]
  },
  {
   "cell_type": "code",
   "execution_count": 48,
   "id": "797e11dc",
   "metadata": {},
   "outputs": [],
   "source": [
    "four_GB_RAM_index = df[df['RAM'].str.contains('Not')].index"
   ]
  },
  {
   "cell_type": "code",
   "execution_count": 53,
   "id": "c52ceef0",
   "metadata": {},
   "outputs": [
    {
     "data": {
      "text/plain": [
       "Int64Index([16, 23], dtype='int64')"
      ]
     },
     "execution_count": 53,
     "metadata": {},
     "output_type": "execute_result"
    }
   ],
   "source": [
    "four_GB_RAM_index"
   ]
  },
  {
   "cell_type": "code",
   "execution_count": 54,
   "id": "010e5d9b",
   "metadata": {},
   "outputs": [],
   "source": [
    "df.drop(index=four_GB_RAM_index,axis=0,inplace=True)"
   ]
  },
  {
   "cell_type": "code",
   "execution_count": 60,
   "id": "3bedb6f1",
   "metadata": {},
   "outputs": [
    {
     "name": "stdout",
     "output_type": "stream",
     "text": [
      "<class 'pandas.core.frame.DataFrame'>\n",
      "Int64Index: 88 entries, 0 to 89\n",
      "Data columns (total 10 columns):\n",
      " #   Column        Non-Null Count  Dtype  \n",
      "---  ------        --------------  -----  \n",
      " 0   name          88 non-null     object \n",
      " 1   brand         88 non-null     object \n",
      " 2   front_camera  88 non-null     float64\n",
      " 3   back_camera   88 non-null     object \n",
      " 4   screen_size   88 non-null     float64\n",
      " 5   RAM           88 non-null     object \n",
      " 6   Memory        88 non-null     object \n",
      " 7   Battery       88 non-null     object \n",
      " 8   URL           88 non-null     object \n",
      " 9   price         88 non-null     float64\n",
      "dtypes: float64(3), object(7)\n",
      "memory usage: 7.6+ KB\n"
     ]
    }
   ],
   "source": [
    "df.info()"
   ]
  },
  {
   "cell_type": "code",
   "execution_count": 65,
   "id": "a9cb9f9f",
   "metadata": {},
   "outputs": [],
   "source": [
    "df.back_camera = df.back_camera.astype(float)"
   ]
  },
  {
   "cell_type": "code",
   "execution_count": null,
   "id": "fd709717",
   "metadata": {},
   "outputs": [],
   "source": [
    "df.RAM = df.RAM.apply(lambda x:x.replace('/6',''))\n",
    "df.RAM = df.RAM.apply(lambda x:x.split(' ')[0]).astype(float)"
   ]
  },
  {
   "cell_type": "code",
   "execution_count": 73,
   "id": "2fcd3c80",
   "metadata": {},
   "outputs": [],
   "source": [
    "df.Battery = df.Battery.apply(lambda x:x.split('mAh')[0].strip().split(' ')[-1])"
   ]
  },
  {
   "cell_type": "code",
   "execution_count": 87,
   "id": "285ce891",
   "metadata": {},
   "outputs": [
    {
     "data": {
      "text/html": [
       "<div>\n",
       "<style scoped>\n",
       "    .dataframe tbody tr th:only-of-type {\n",
       "        vertical-align: middle;\n",
       "    }\n",
       "\n",
       "    .dataframe tbody tr th {\n",
       "        vertical-align: top;\n",
       "    }\n",
       "\n",
       "    .dataframe thead th {\n",
       "        text-align: right;\n",
       "    }\n",
       "</style>\n",
       "<table border=\"1\" class=\"dataframe\">\n",
       "  <thead>\n",
       "    <tr style=\"text-align: right;\">\n",
       "      <th></th>\n",
       "      <th>name</th>\n",
       "      <th>brand</th>\n",
       "      <th>front_camera</th>\n",
       "      <th>back_camera</th>\n",
       "      <th>screen_size</th>\n",
       "      <th>RAM</th>\n",
       "      <th>Memory</th>\n",
       "      <th>Battery</th>\n",
       "      <th>URL</th>\n",
       "      <th>price</th>\n",
       "    </tr>\n",
       "  </thead>\n",
       "  <tbody>\n",
       "    <tr>\n",
       "      <th>34</th>\n",
       "      <td>huawei nova y70</td>\n",
       "      <td>huawei</td>\n",
       "      <td>8.0</td>\n",
       "      <td>48.0</td>\n",
       "      <td>6.75</td>\n",
       "      <td>4.0</td>\n",
       "      <td>128GB</td>\n",
       "      <td>stand-by)</td>\n",
       "      <td>https://mob4me.com/huawei-nova-y70</td>\n",
       "      <td>5699.0</td>\n",
       "    </tr>\n",
       "  </tbody>\n",
       "</table>\n",
       "</div>"
      ],
      "text/plain": [
       "               name   brand  front_camera  back_camera  screen_size  RAM  \\\n",
       "34  huawei nova y70  huawei           8.0         48.0         6.75  4.0   \n",
       "\n",
       "   Memory    Battery                                 URL   price  \n",
       "34  128GB  stand-by)  https://mob4me.com/huawei-nova-y70  5699.0  "
      ]
     },
     "execution_count": 87,
     "metadata": {},
     "output_type": "execute_result"
    }
   ],
   "source": [
    "df[df.index==34]"
   ]
  },
  {
   "cell_type": "code",
   "execution_count": 67,
   "id": "79c42bdd",
   "metadata": {},
   "outputs": [
    {
     "data": {
      "text/plain": [
       "60    4/6 GB\n",
       "Name: RAM, dtype: object"
      ]
     },
     "execution_count": 67,
     "metadata": {},
     "output_type": "execute_result"
    }
   ],
   "source": [
    "df[df['RAM'].str.contains('/')]['RAM']"
   ]
  },
  {
   "cell_type": "code",
   "execution_count": 92,
   "id": "c7378ee2",
   "metadata": {},
   "outputs": [],
   "source": [
    "df.iloc[32,7] = 6000"
   ]
  },
  {
   "cell_type": "code",
   "execution_count": 93,
   "id": "9c000e6d",
   "metadata": {},
   "outputs": [],
   "source": [
    "df.Battery = df.Battery.astype(float)"
   ]
  },
  {
   "cell_type": "code",
   "execution_count": 94,
   "id": "531a58fa",
   "metadata": {},
   "outputs": [
    {
     "name": "stdout",
     "output_type": "stream",
     "text": [
      "<class 'pandas.core.frame.DataFrame'>\n",
      "Int64Index: 88 entries, 0 to 89\n",
      "Data columns (total 10 columns):\n",
      " #   Column        Non-Null Count  Dtype  \n",
      "---  ------        --------------  -----  \n",
      " 0   name          88 non-null     object \n",
      " 1   brand         88 non-null     object \n",
      " 2   front_camera  88 non-null     float64\n",
      " 3   back_camera   88 non-null     float64\n",
      " 4   screen_size   88 non-null     float64\n",
      " 5   RAM           88 non-null     float64\n",
      " 6   Memory        88 non-null     object \n",
      " 7   Battery       88 non-null     float64\n",
      " 8   URL           88 non-null     object \n",
      " 9   price         88 non-null     float64\n",
      "dtypes: float64(6), object(4)\n",
      "memory usage: 7.6+ KB\n"
     ]
    }
   ],
   "source": [
    "df.info()"
   ]
  },
  {
   "cell_type": "code",
   "execution_count": 95,
   "id": "aaa98415",
   "metadata": {},
   "outputs": [],
   "source": [
    "unclean_memory = df.Memory"
   ]
  },
  {
   "cell_type": "code",
   "execution_count": null,
   "id": "aceadf7d",
   "metadata": {},
   "outputs": [],
   "source": [
    "df.Memory = df.Memory.apply(lambda x:x.split('GB')[0])"
   ]
  },
  {
   "cell_type": "code",
   "execution_count": 102,
   "id": "5d8b1635",
   "metadata": {},
   "outputs": [
    {
     "name": "stdout",
     "output_type": "stream",
     "text": [
      "<class 'pandas.core.frame.DataFrame'>\n",
      "Int64Index: 88 entries, 0 to 89\n",
      "Data columns (total 10 columns):\n",
      " #   Column        Non-Null Count  Dtype  \n",
      "---  ------        --------------  -----  \n",
      " 0   name          88 non-null     object \n",
      " 1   brand         88 non-null     object \n",
      " 2   front_camera  88 non-null     float64\n",
      " 3   back_camera   88 non-null     float64\n",
      " 4   screen_size   88 non-null     float64\n",
      " 5   RAM           88 non-null     float64\n",
      " 6   Memory        88 non-null     object \n",
      " 7   Battery       88 non-null     float64\n",
      " 8   URL           88 non-null     object \n",
      " 9   price         88 non-null     float64\n",
      "dtypes: float64(6), object(4)\n",
      "memory usage: 7.6+ KB\n"
     ]
    }
   ],
   "source": [
    "df.info()"
   ]
  },
  {
   "cell_type": "code",
   "execution_count": 103,
   "id": "f64272a6",
   "metadata": {},
   "outputs": [],
   "source": [
    "df.Memory = df.Memory.astype(float)"
   ]
  },
  {
   "cell_type": "markdown",
   "id": "1148270a",
   "metadata": {},
   "source": [
    "## EDA"
   ]
  },
  {
   "cell_type": "code",
   "execution_count": 105,
   "id": "0ee152d5",
   "metadata": {},
   "outputs": [
    {
     "data": {
      "image/png": "[encoded data removed]",
      "text/plain": [
       "<Figure size 1440x720 with 1 Axes>"
      ]
     },
     "metadata": {
      "needs_background": "light"
     },
     "output_type": "display_data"
    }
   ],
   "source": [
    "plt.figure(figsize=(20,10))\n",
    "plt.title('Price Range',fontsize=24)\n",
    "sns.boxplot(x = df.price);\n",
    "plt.show()"
   ]
  },
  {
   "cell_type": "code",
   "execution_count": 106,
   "id": "8cf223d1",
   "metadata": {},
   "outputs": [
    {
     "data": {
      "text/html": [
       "<div>\n",
       "<style scoped>\n",
       "    .dataframe tbody tr th:only-of-type {\n",
       "        vertical-align: middle;\n",
       "    }\n",
       "\n",
       "    .dataframe tbody tr th {\n",
       "        vertical-align: top;\n",
       "    }\n",
       "\n",
       "    .dataframe thead th {\n",
       "        text-align: right;\n",
       "    }\n",
       "</style>\n",
       "<table border=\"1\" class=\"dataframe\">\n",
       "  <thead>\n",
       "    <tr style=\"text-align: right;\">\n",
       "      <th></th>\n",
       "      <th>front_camera</th>\n",
       "      <th>back_camera</th>\n",
       "      <th>screen_size</th>\n",
       "      <th>RAM</th>\n",
       "      <th>Memory</th>\n",
       "      <th>Battery</th>\n",
       "      <th>price</th>\n",
       "    </tr>\n",
       "  </thead>\n",
       "  <tbody>\n",
       "    <tr>\n",
       "      <th>count</th>\n",
       "      <td>88.000000</td>\n",
       "      <td>88.000000</td>\n",
       "      <td>88.000000</td>\n",
       "      <td>88.000000</td>\n",
       "      <td>88.000000</td>\n",
       "      <td>88.000000</td>\n",
       "      <td>88.000000</td>\n",
       "    </tr>\n",
       "    <tr>\n",
       "      <th>mean</th>\n",
       "      <td>15.613636</td>\n",
       "      <td>45.943182</td>\n",
       "      <td>6.534886</td>\n",
       "      <td>6.204545</td>\n",
       "      <td>103.636364</td>\n",
       "      <td>4860.113636</td>\n",
       "      <td>9024.534091</td>\n",
       "    </tr>\n",
       "    <tr>\n",
       "      <th>std</th>\n",
       "      <td>11.569313</td>\n",
       "      <td>30.460209</td>\n",
       "      <td>0.104628</td>\n",
       "      <td>4.978480</td>\n",
       "      <td>55.318136</td>\n",
       "      <td>468.576946</td>\n",
       "      <td>7538.501700</td>\n",
       "    </tr>\n",
       "    <tr>\n",
       "      <th>min</th>\n",
       "      <td>5.000000</td>\n",
       "      <td>8.000000</td>\n",
       "      <td>6.400000</td>\n",
       "      <td>2.000000</td>\n",
       "      <td>32.000000</td>\n",
       "      <td>3300.000000</td>\n",
       "      <td>1800.000000</td>\n",
       "    </tr>\n",
       "    <tr>\n",
       "      <th>25%</th>\n",
       "      <td>7.250000</td>\n",
       "      <td>13.000000</td>\n",
       "      <td>6.500000</td>\n",
       "      <td>4.000000</td>\n",
       "      <td>64.000000</td>\n",
       "      <td>4500.000000</td>\n",
       "      <td>4537.250000</td>\n",
       "    </tr>\n",
       "    <tr>\n",
       "      <th>50%</th>\n",
       "      <td>11.000000</td>\n",
       "      <td>50.000000</td>\n",
       "      <td>6.505000</td>\n",
       "      <td>6.000000</td>\n",
       "      <td>128.000000</td>\n",
       "      <td>5000.000000</td>\n",
       "      <td>5889.500000</td>\n",
       "    </tr>\n",
       "    <tr>\n",
       "      <th>75%</th>\n",
       "      <td>23.000000</td>\n",
       "      <td>64.000000</td>\n",
       "      <td>6.592500</td>\n",
       "      <td>8.000000</td>\n",
       "      <td>128.000000</td>\n",
       "      <td>5000.000000</td>\n",
       "      <td>11777.000000</td>\n",
       "    </tr>\n",
       "    <tr>\n",
       "      <th>max</th>\n",
       "      <td>50.000000</td>\n",
       "      <td>200.000000</td>\n",
       "      <td>6.900000</td>\n",
       "      <td>48.000000</td>\n",
       "      <td>256.000000</td>\n",
       "      <td>7000.000000</td>\n",
       "      <td>47333.000000</td>\n",
       "    </tr>\n",
       "  </tbody>\n",
       "</table>\n",
       "</div>"
      ],
      "text/plain": [
       "       front_camera  back_camera  screen_size        RAM      Memory  \\\n",
       "count     88.000000    88.000000    88.000000  88.000000   88.000000   \n",
       "mean      15.613636    45.943182     6.534886   6.204545  103.636364   \n",
       "std       11.569313    30.460209     0.104628   4.978480   55.318136   \n",
       "min        5.000000     8.000000     6.400000   2.000000   32.000000   \n",
       "25%        7.250000    13.000000     6.500000   4.000000   64.000000   \n",
       "50%       11.000000    50.000000     6.505000   6.000000  128.000000   \n",
       "75%       23.000000    64.000000     6.592500   8.000000  128.000000   \n",
       "max       50.000000   200.000000     6.900000  48.000000  256.000000   \n",
       "\n",
       "           Battery         price  \n",
       "count    88.000000     88.000000  \n",
       "mean   4860.113636   9024.534091  \n",
       "std     468.576946   7538.501700  \n",
       "min    3300.000000   1800.000000  \n",
       "25%    4500.000000   4537.250000  \n",
       "50%    5000.000000   5889.500000  \n",
       "75%    5000.000000  11777.000000  \n",
       "max    7000.000000  47333.000000  "
      ]
     },
     "execution_count": 106,
     "metadata": {},
     "output_type": "execute_result"
    }
   ],
   "source": [
    "df.describe()"
   ]
  },
  {
   "cell_type": "code",
   "execution_count": 107,
   "id": "ad4a3eef",
   "metadata": {},
   "outputs": [
    {
     "data": {
      "text/html": [
       "<div>\n",
       "<style scoped>\n",
       "    .dataframe tbody tr th:only-of-type {\n",
       "        vertical-align: middle;\n",
       "    }\n",
       "\n",
       "    .dataframe tbody tr th {\n",
       "        vertical-align: top;\n",
       "    }\n",
       "\n",
       "    .dataframe thead th {\n",
       "        text-align: right;\n",
       "    }\n",
       "</style>\n",
       "<table border=\"1\" class=\"dataframe\">\n",
       "  <thead>\n",
       "    <tr style=\"text-align: right;\">\n",
       "      <th></th>\n",
       "      <th>price</th>\n",
       "    </tr>\n",
       "    <tr>\n",
       "      <th>brand</th>\n",
       "      <th></th>\n",
       "    </tr>\n",
       "  </thead>\n",
       "  <tbody>\n",
       "    <tr>\n",
       "      <th>huawei</th>\n",
       "      <td>8521.250000</td>\n",
       "    </tr>\n",
       "    <tr>\n",
       "      <th>oppo</th>\n",
       "      <td>6969.680000</td>\n",
       "    </tr>\n",
       "    <tr>\n",
       "      <th>realme</th>\n",
       "      <td>6080.727273</td>\n",
       "    </tr>\n",
       "    <tr>\n",
       "      <th>samsung</th>\n",
       "      <td>12944.533333</td>\n",
       "    </tr>\n",
       "    <tr>\n",
       "      <th>vivo</th>\n",
       "      <td>9102.857143</td>\n",
       "    </tr>\n",
       "  </tbody>\n",
       "</table>\n",
       "</div>"
      ],
      "text/plain": [
       "                price\n",
       "brand                \n",
       "huawei    8521.250000\n",
       "oppo      6969.680000\n",
       "realme    6080.727273\n",
       "samsung  12944.533333\n",
       "vivo      9102.857143"
      ]
     },
     "execution_count": 107,
     "metadata": {},
     "output_type": "execute_result"
    }
   ],
   "source": [
    "avg_price_by_brand = df.groupby('brand')['price'].mean().to_frame()\n",
    "avg_price_by_brand"
   ]
  },
  {
   "cell_type": "code",
   "execution_count": 108,
   "id": "d21e6f97",
   "metadata": {},
   "outputs": [
    {
     "data": {
      "image/png": "[encoded data removed]",
      "text/plain": [
       "<Figure size 1440x720 with 1 Axes>"
      ]
     },
     "metadata": {
      "needs_background": "light"
     },
     "output_type": "display_data"
    }
   ],
   "source": [
    "plt.figure(figsize=(20,10))\n",
    "sns.boxplot(x= 'price', y = 'brand', data = df);\n",
    "plt.title('Price range per brand', fontsize = 24)\n",
    "plt.xlabel('Price Range', fontsize = 18)\n",
    "plt.ylabel('Brand', fontsize = 18)\n",
    "plt.yticks(fontsize = 18)\n",
    "plt.show()"
   ]
  },
  {
   "cell_type": "code",
   "execution_count": 109,
   "id": "65f71d5c",
   "metadata": {},
   "outputs": [
    {
     "data": {
      "text/plain": [
       "samsung    30\n",
       "oppo       25\n",
       "realme     22\n",
       "vivo        7\n",
       "huawei      4\n",
       "Name: brand, dtype: int64"
      ]
     },
     "execution_count": 109,
     "metadata": {},
     "output_type": "execute_result"
    }
   ],
   "source": [
    "df.brand.value_counts()"
   ]
  },
  {
   "cell_type": "code",
   "execution_count": 113,
   "id": "e8ea9d07",
   "metadata": {},
   "outputs": [],
   "source": [
    "df.to_excel('clean_data.xlsx',index=False)"
   ]
  },
  {
   "cell_type": "code",
   "execution_count": null,
   "id": "e9422a3b",
   "metadata": {},
   "outputs": [],
   "source": []
  }
 ],
 "metadata": {
  "kernelspec": {
   "display_name": "Python 3 (ipykernel)",
   "language": "python",
   "name": "python3"
  },
  "language_info": {
   "codemirror_mode": {
    "name": "ipython",
    "version": 3
   },
   "file_extension": ".py",
   "mimetype": "text/x-python",
   "name": "python",
   "nbconvert_exporter": "python",
   "pygments_lexer": "ipython3",
   "version": "3.10.5"
  }
 },
 "nbformat": 4,
 "nbformat_minor": 5
}
