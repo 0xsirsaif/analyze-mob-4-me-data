{
 "cells": [
  {
   "cell_type": "code",
   "execution_count": 21,
   "id": "7e3bd95e",
   "metadata": {},
   "outputs": [],
   "source": [
    "import httpx\n",
    "from bs4 import BeautifulSoup"
   ]
  },
  {
   "cell_type": "code",
   "execution_count": 44,
   "id": "40268e64",
   "metadata": {},
   "outputs": [],
   "source": [
    "from warnings import filterwarnings\n",
    "filterwarnings('ignore')"
   ]
  },
  {
   "cell_type": "code",
   "execution_count": 4,
   "id": "8d5421b5",
   "metadata": {},
   "outputs": [],
   "source": [
    "url = 'https://mob4me.com/'"
   ]
  },
  {
   "cell_type": "code",
   "execution_count": 78,
   "id": "74924e6d",
   "metadata": {},
   "outputs": [],
   "source": [
    "headers = {\n",
    "    \"User-Agent\": \"Mozilla/5.0 (Windows NT 10.0; Win64; x64) AppleWebKit/537.36 (KHTML, like Gecko) Chrome/58.0.3029.110 Safari/537.36 Edge/16.16299\"\n",
    "}"
   ]
  },
  {
   "cell_type": "code",
   "execution_count": 17,
   "id": "20c2ffcd",
   "metadata": {},
   "outputs": [],
   "source": [
    "response = httpx.get(url, headers=headers)\n",
    "soup = soup(response.content, 'lxml')"
   ]
  },
  {
   "cell_type": "code",
   "execution_count": 18,
   "id": "4cbbffdd",
   "metadata": {},
   "outputs": [
    {
     "data": {
      "text/plain": [
       "[]"
      ]
     },
     "execution_count": 18,
     "metadata": {},
     "output_type": "execute_result"
    }
   ],
   "source": [
    "soup"
   ]
  },
  {
   "cell_type": "code",
   "execution_count": 11,
   "id": "ecb21b8a",
   "metadata": {},
   "outputs": [
    {
     "data": {
      "text/plain": [
       "(38, '\\nSamsung\\n')"
      ]
     },
     "execution_count": 11,
     "metadata": {},
     "output_type": "execute_result"
    }
   ],
   "source": [
    "brands = soup.select('#right-menu-tour > div > div > ul > li')\n",
    "len(brands), brands[0].text"
   ]
  },
  {
   "cell_type": "code",
   "execution_count": 13,
   "id": "73d552bc",
   "metadata": {},
   "outputs": [
    {
     "data": {
      "text/plain": [
       "'https://mob4me.com/Lenovo'"
      ]
     },
     "execution_count": 13,
     "metadata": {},
     "output_type": "execute_result"
    }
   ],
   "source": [
    "brand_url = url + brands[2].text.replace('\\n','')\n",
    "brand_url"
   ]
  },
  {
   "cell_type": "code",
   "execution_count": 107,
   "id": "4e26f0f3",
   "metadata": {},
   "outputs": [],
   "source": [
    "\n",
    "def get_data_of_phone(phone_url):\n",
    "    response = httpx.get(phone_url, headers=headers)\n",
    "    soup = BeautifulSoup(response.content, 'lxml')\n",
    "    name = phone_url.split('.com/')[-1].replace('-',' ')\n",
    "    back_cam = soup.select_one('#product_icons > li:nth-child(4)').text.replace('ميجا بكسل','').strip()\n",
    "    screen_size = soup.select_one('#product_icons > li:nth-child(2)')\n",
    "    battery = soup.select_one('#product_icons > li:nth-child(6)').text\n",
    "    price = soup.select_one('body > div.container > div > div.col-md-8.col-12 > section:nth-child(2) > div.row.product-titlecontent > div:nth-child(3) > div:nth-child(1) > h3').text\n",
    "#   Block of trash\n",
    "    memory_name = soup.select_one('td:contains(\"الذاكرة الداخلية\")')\n",
    "    if memory_name:\n",
    "        memory = memory_name.find_next('td').text.replace('\\n','').strip()\n",
    "    else:\n",
    "        memory = \"Not Found\"\n",
    "    ram_name = soup.select_one('td:contains(\"الرامات\")')\n",
    "    if ram_name:\n",
    "        ram = ram_name.find_next('td').text.replace('\\n','').strip()\n",
    "    else:\n",
    "        ram = \"Not Found\"\n",
    "    front_cam_name = soup.select_one('td:contains(\"موصفات الكاميرة الامامية\")')\n",
    "    if front_cam_name:\n",
    "        front_cam = front_cam_name.find_next('td').text.replace('\\n','').strip()\n",
    "    else:\n",
    "        front_cam = \"Not Found\"\n",
    "#     end of trash\n",
    "    return {\n",
    "        'name':name,\n",
    "        'brand':name.split(' ')[0],\n",
    "        'front_camera':front_cam,\n",
    "        'back_camera':back_cam,\n",
    "        'RAM':ram,\n",
    "        'Memory':memory,\n",
    "        'Battery':battery,\n",
    "        'URL':phone_url,\n",
    "        'price':price\n",
    "    }"
   ]
  },
  {
   "cell_type": "code",
   "execution_count": 109,
   "id": "0cf12e50",
   "metadata": {},
   "outputs": [],
   "source": [
    "data = get_data_of_phone('https://mob4me.com/samsung-galaxy-s21-fe-5g')"
   ]
  },
  {
   "cell_type": "code",
   "execution_count": 112,
   "id": "66709f46",
   "metadata": {},
   "outputs": [
    {
     "data": {
      "text/plain": [
       "'samsung'"
      ]
     },
     "execution_count": 112,
     "metadata": {},
     "output_type": "execute_result"
    }
   ],
   "source": [
    "data['brand']"
   ]
  },
  {
   "cell_type": "code",
   "execution_count": 56,
   "id": "95160671",
   "metadata": {},
   "outputs": [],
   "source": [
    "import pandas as pd"
   ]
  },
  {
   "cell_type": "code",
   "execution_count": 124,
   "id": "fe25ea08",
   "metadata": {},
   "outputs": [],
   "source": [
    "def get_data_of_page(brand , page):\n",
    "    page_data = pd.DataFrame()\n",
    "    page_url = f\"{url}{brand}/{page}\"\n",
    "    response = httpx.get(page_url,headers=headers)\n",
    "    soup = BeautifulSoup(response.content, 'lxml')\n",
    "    phone_anchors = soup.select('body > div.container > div > div > section > div:nth-child(2) > div > a')\n",
    "    for a in phone_anchors:\n",
    "        print(a.get('href'))\n",
    "        phone_data = get_data_of_phone(a.get('href'))\n",
    "        phone_df = pd.DataFrame(phone_data,index =[phone_data['name']] )\n",
    "        page_data = pd.concat([page_data, phone_df])\n",
    "    next_button = soup.select('a:contains(\"التالي\")')\n",
    "    next_button_is_active = True if next_button else False \n",
    "    return page_data , next_button_is_active\n",
    "        \n",
    "#     for phone_url in phones_urls:\n",
    "#         get_data_of_phone(phone_url)\n",
    "    \"\"\"return data , bool ==> True if next button exist else False\n",
    "    \"\"\"\n",
    "    "
   ]
  },
  {
   "cell_type": "code",
   "execution_count": 114,
   "id": "69498e2a",
   "metadata": {},
   "outputs": [
    {
     "name": "stdout",
     "output_type": "stream",
     "text": [
      "https://mob4me.com/samsung-galaxy-s22-plus-5g\n",
      "https://mob4me.com/samsung-galaxy-s22-5g\n",
      "https://mob4me.com/samsung-galaxy-a03-core\n",
      "https://mob4me.com/samsung-galaxy-s21-fe-5g\n",
      "https://mob4me.com/samsung-galaxy-m22\n",
      "https://mob4me.com/samsung-galaxy-m52-5g\n",
      "https://mob4me.com/samsung-galaxy-a52s-5g\n",
      "https://mob4me.com/samsung-galaxy-z-fold3-5g\n",
      "https://mob4me.com/samsung-galaxy-z-flip3-5g\n",
      "https://mob4me.com/samsung-galaxy-m32\n",
      "https://mob4me.com/samsung-galaxy-a03s\n",
      "https://mob4me.com/samsung-galaxy-m12\n",
      "https://mob4me.com/samsung-galaxy-a22\n",
      "https://mob4me.com/samsung-galaxy-a32\n",
      "https://mob4me.com/samsung-galaxy-m62\n",
      "https://mob4me.com/samsung-galaxy-a72\n",
      "https://mob4me.com/samsung-galaxy-a52\n",
      "https://mob4me.com/samsung-galaxy-a02\n",
      "https://mob4me.com/samsung-galaxy-s21-ultra-5g\n",
      "https://mob4me.com/samsung-galaxy-s21-plus-5g\n"
     ]
    },
    {
     "data": {
      "text/plain": [
       "(                                                    name    brand  \\\n",
       " samsung galaxy s22 plus 5g    samsung galaxy s22 plus 5g  samsung   \n",
       " samsung galaxy s22 5g              samsung galaxy s22 5g  samsung   \n",
       " samsung galaxy a03 core          samsung galaxy a03 core  samsung   \n",
       " samsung galaxy s21 fe 5g        samsung galaxy s21 fe 5g  samsung   \n",
       " samsung galaxy m22                    samsung galaxy m22  samsung   \n",
       " samsung galaxy m52 5g              samsung galaxy m52 5g  samsung   \n",
       " samsung galaxy a52s 5g            samsung galaxy a52s 5g  samsung   \n",
       " samsung galaxy z fold3 5g      samsung galaxy z fold3 5g  samsung   \n",
       " samsung galaxy z flip3 5g      samsung galaxy z flip3 5g  samsung   \n",
       " samsung galaxy m32                    samsung galaxy m32  samsung   \n",
       " samsung galaxy a03s                  samsung galaxy a03s  samsung   \n",
       " samsung galaxy m12                    samsung galaxy m12  samsung   \n",
       " samsung galaxy a22                    samsung galaxy a22  samsung   \n",
       " samsung galaxy a32                    samsung galaxy a32  samsung   \n",
       " samsung galaxy m62                    samsung galaxy m62  samsung   \n",
       " samsung galaxy a72                    samsung galaxy a72  samsung   \n",
       " samsung galaxy a52                    samsung galaxy a52  samsung   \n",
       " samsung galaxy a02                    samsung galaxy a02  samsung   \n",
       " samsung galaxy s21 ultra 5g  samsung galaxy s21 ultra 5g  samsung   \n",
       " samsung galaxy s21 plus 5g    samsung galaxy s21 plus 5g  samsung   \n",
       " \n",
       "                                                                   front_camera  \\\n",
       " samsung galaxy s22 plus 5g   10 MP, f/2.2, 26mm (wide), 1/3.24\", 1.22µm, Du...   \n",
       " samsung galaxy s22 5g        10 MP, f/2.2, 26mm (wide), 1/3.24\", 1.22µm, Du...   \n",
       " samsung galaxy a03 core                                            5 MP, f/2.2   \n",
       " samsung galaxy s21 fe 5g             32 MP, f/2.2, 26mm (wide), 1/2.74\", 0.8µm   \n",
       " samsung galaxy m22                        13 MP, f/2.2, (wide), 1/3.1\", 1.12µm   \n",
       " samsung galaxy m52 5g                                     32 MP, f/2.2, (wide)   \n",
       " samsung galaxy a52s 5g                32 MP, f/2.2, 26mm (wide), 1/2.8\", 0.8µm   \n",
       " samsung galaxy z fold3 5g    4 MP, f/1.8, 2.0µm, under displayCover camera:...   \n",
       " samsung galaxy z flip3 5g                    10 MP, f/2.4, 26mm (wide), 1.22µm   \n",
       " samsung galaxy m32                                        20 MP, f/2.2, (wide)   \n",
       " samsung galaxy a03s                                                5 MP, f/2.2   \n",
       " samsung galaxy m12                                         8 MP, f/2.2, (wide)   \n",
       " samsung galaxy a22                        13 MP, f/2.2, (wide), 1/3.1\", 1.12µm   \n",
       " samsung galaxy a32                                        20 MP, f/2.2, (wide)   \n",
       " samsung galaxy m62                    32 MP, f/2.2, 26mm (wide), 1/2.8\", 0.8µm   \n",
       " samsung galaxy a72                            32 MP, f/2.2, 26mm (wide), 1/2.8   \n",
       " samsung galaxy a52                            32 MP, f/2.2, 26mm (wide), 1/2.8   \n",
       " samsung galaxy a02                                                 5 MP, f/2.0   \n",
       " samsung galaxy s21 ultra 5g     40 MP, f/2.2, 26mm (wide), 1/2.8\", 0.7µm, PDAF   \n",
       " samsung galaxy s21 plus 5g   10 MP, f/2.2, 26mm (wide), 1/3.24\", 1.22µm, Du...   \n",
       " \n",
       "                             back_camera        RAM  \\\n",
       " samsung galaxy s22 plus 5g           50       8 GB   \n",
       " samsung galaxy s22 5g                50       8 GB   \n",
       " samsung galaxy a03 core               8       2 GB   \n",
       " samsung galaxy s21 fe 5g             12       6 GB   \n",
       " samsung galaxy m22                   48       4 GB   \n",
       " samsung galaxy m52 5g                64       6 GB   \n",
       " samsung galaxy a52s 5g               64       8 GB   \n",
       " samsung galaxy z fold3 5g            12      12 GB   \n",
       " samsung galaxy z flip3 5g            12       8 GB   \n",
       " samsung galaxy m32                   64       6 GB   \n",
       " samsung galaxy a03s                  13       4 GB   \n",
       " samsung galaxy m12                   48  Not Found   \n",
       " samsung galaxy a22                   48       4 GB   \n",
       " samsung galaxy a32                   64       6 GB   \n",
       " samsung galaxy m62                   64       8 GB   \n",
       " samsung galaxy a72                   64       8 GB   \n",
       " samsung galaxy a52                   64       8 GB   \n",
       " samsung galaxy a02                   13       3 GB   \n",
       " samsung galaxy s21 ultra 5g         108      12 GB   \n",
       " samsung galaxy s21 plus 5g           64       8 GB   \n",
       " \n",
       "                                                                 Memory  \\\n",
       " samsung galaxy s22 plus 5g                               128GB , 256GB   \n",
       " samsung galaxy s22 5g                                    128GB , 256GB   \n",
       " samsung galaxy a03 core                                           32GB   \n",
       " samsung galaxy s21 fe 5g                                 128GB , 256GB   \n",
       " samsung galaxy m22                                        64GB , 128GB   \n",
       " samsung galaxy m52 5g                                            128GB   \n",
       " samsung galaxy a52s 5g                                   128GB , 256GB   \n",
       " samsung galaxy z fold3 5g                                256GB / 512GB   \n",
       " samsung galaxy z flip3 5g                                128GB / 256GB   \n",
       " samsung galaxy m32                                               128GB   \n",
       " samsung galaxy a03s                                               64GB   \n",
       " samsung galaxy m12           32GB 3GB RAM, 64GB 4GB RAM, 128GB 4GB RAM   \n",
       " samsung galaxy a22                                          64GB,128GB   \n",
       " samsung galaxy a32                                               128GB   \n",
       " samsung galaxy m62                                       128GB / 256GB   \n",
       " samsung galaxy a72                                               128GB   \n",
       " samsung galaxy a52                                               128GB   \n",
       " samsung galaxy a02                                                32GB   \n",
       " samsung galaxy s21 ultra 5g                              128GB / 256GB   \n",
       " samsung galaxy s21 plus 5g                               128GB / 256GB   \n",
       " \n",
       "                                                                        Battery  \\\n",
       " samsung galaxy s22 plus 5g    Li-Ion 4500 mAh غير قابلة للازالة  ,شحن سريع ...   \n",
       " samsung galaxy s22 5g         Li-Ion 3700 mAh غير قابلة للازالة  ,شحن سريع ...   \n",
       " samsung galaxy a03 core                      Li-Ion 5000 mAh غير قابلة للازالة   \n",
       " samsung galaxy s21 fe 5g      Li-Ion 4500 mAh غير قابلة للازالة  ,شحن سريع ...   \n",
       " samsung galaxy m22                 Li-Po 5000 mAh غير قابلة للازالة  ,شحن سريع   \n",
       " samsung galaxy m52 5g             Li-Ion 5000 mAh غير قابلة للازالة  ,شحن سريع   \n",
       " samsung galaxy a52s 5g             Li-Po 4500 mAh غير قابلة للازالة  ,شحن سريع   \n",
       " samsung galaxy z fold3 5g     Li-Po 4400 mAh غير قابلة للازالة  ,شحن سريع ,...   \n",
       " samsung galaxy z flip3 5g     Li-Po 3300 mAh غير قابلة للازالة  ,شحن سريع ,...   \n",
       " samsung galaxy m32                Li-Ion 5000 mAh غير قابلة للازالة  ,شحن سريع   \n",
       " samsung galaxy a03s                Li-Po 5000 mAh غير قابلة للازالة  ,شحن سريع   \n",
       " samsung galaxy m12                 Li-Po 5000 mAh غير قابلة للازالة  ,شحن سريع   \n",
       " samsung galaxy a22                            Li-Po 5000 mAh غير قابلة للازالة   \n",
       " samsung galaxy a32                Li-Ion 5000 mAh غير قابلة للازالة  ,شحن سريع   \n",
       " samsung galaxy m62                 Li-Po 7000 mAh غير قابلة للازالة  ,شحن سريع   \n",
       " samsung galaxy a72                Li-Ion 5000 mAh غير قابلة للازالة  ,شحن سريع   \n",
       " samsung galaxy a52                            Li-Po 4500 mAh غير قابلة للازالة   \n",
       " samsung galaxy a02                           Li-Po 5000 mAh غير قابلة للازالة    \n",
       " samsung galaxy s21 ultra 5g   Li-Po 5000 mAh غير قابلة للازالة  ,شحن سريع ,...   \n",
       " samsung galaxy s21 plus 5g    Li-Po 4800 mAh غير قابلة للازالة  ,شحن سريع ,...   \n",
       " \n",
       "                                                                         URL  \\\n",
       " samsung galaxy s22 plus 5g    https://mob4me.com/samsung-galaxy-s22-plus-5g   \n",
       " samsung galaxy s22 5g              https://mob4me.com/samsung-galaxy-s22-5g   \n",
       " samsung galaxy a03 core          https://mob4me.com/samsung-galaxy-a03-core   \n",
       " samsung galaxy s21 fe 5g        https://mob4me.com/samsung-galaxy-s21-fe-5g   \n",
       " samsung galaxy m22                    https://mob4me.com/samsung-galaxy-m22   \n",
       " samsung galaxy m52 5g              https://mob4me.com/samsung-galaxy-m52-5g   \n",
       " samsung galaxy a52s 5g            https://mob4me.com/samsung-galaxy-a52s-5g   \n",
       " samsung galaxy z fold3 5g      https://mob4me.com/samsung-galaxy-z-fold3-5g   \n",
       " samsung galaxy z flip3 5g      https://mob4me.com/samsung-galaxy-z-flip3-5g   \n",
       " samsung galaxy m32                    https://mob4me.com/samsung-galaxy-m32   \n",
       " samsung galaxy a03s                  https://mob4me.com/samsung-galaxy-a03s   \n",
       " samsung galaxy m12                    https://mob4me.com/samsung-galaxy-m12   \n",
       " samsung galaxy a22                    https://mob4me.com/samsung-galaxy-a22   \n",
       " samsung galaxy a32                    https://mob4me.com/samsung-galaxy-a32   \n",
       " samsung galaxy m62                    https://mob4me.com/samsung-galaxy-m62   \n",
       " samsung galaxy a72                    https://mob4me.com/samsung-galaxy-a72   \n",
       " samsung galaxy a52                    https://mob4me.com/samsung-galaxy-a52   \n",
       " samsung galaxy a02                    https://mob4me.com/samsung-galaxy-a02   \n",
       " samsung galaxy s21 ultra 5g  https://mob4me.com/samsung-galaxy-s21-ultra-5g   \n",
       " samsung galaxy s21 plus 5g    https://mob4me.com/samsung-galaxy-s21-plus-5g   \n",
       " \n",
       "                              price  \n",
       " samsung galaxy s22 plus 5g          \n",
       " samsung galaxy s22 5g               \n",
       " samsung galaxy a03 core       3666  \n",
       " samsung galaxy s21 fe 5g     20500  \n",
       " samsung galaxy m22                  \n",
       " samsung galaxy m52 5g        10999  \n",
       " samsung galaxy a52s 5g       14500  \n",
       " samsung galaxy z fold3 5g           \n",
       " samsung galaxy z flip3 5g    21000  \n",
       " samsung galaxy m32                  \n",
       " samsung galaxy a03s           4730  \n",
       " samsung galaxy m12            5000  \n",
       " samsung galaxy a22                  \n",
       " samsung galaxy a32            8399  \n",
       " samsung galaxy m62                  \n",
       " samsung galaxy a72           12999  \n",
       " samsung galaxy a52           13999  \n",
       " samsung galaxy a02            1800  \n",
       " samsung galaxy s21 ultra 5g         \n",
       " samsung galaxy s21 plus 5g          ,\n",
       " False)"
      ]
     },
     "execution_count": 114,
     "metadata": {},
     "output_type": "execute_result"
    }
   ],
   "source": [
    "get_data_of_page('samsung',2)"
   ]
  },
  {
   "cell_type": "code",
   "execution_count": null,
   "id": "4a8f0c24",
   "metadata": {},
   "outputs": [],
   "source": [
    "def scrap(brand):\n",
    "    page = 1\n",
    "    phones_data,next_button_is_active = get_data_of_page(brand, page)\n",
    "    while next_button_is_active:\n",
    "        page+=1\n",
    "        page_data,next_button_is_active = get_data_of_page(brand, page)\n",
    "        phones_data = pd.concat([phones_data, page_data])\n",
    "    return phones_data   "
   ]
  },
  {
   "cell_type": "code",
   "execution_count": 16,
   "id": "1e4db155",
   "metadata": {},
   "outputs": [
    {
     "data": {
      "text/plain": [
       "'https://mob4me.com/lg/1'"
      ]
     },
     "execution_count": 16,
     "metadata": {},
     "output_type": "execute_result"
    }
   ],
   "source": [
    "brand = 'lg'\n",
    "page = 1\n",
    "page_url = f\"{url}{brand}/{page}\"\n",
    "page_url"
   ]
  },
  {
   "cell_type": "code",
   "execution_count": null,
   "id": "6372bcd2",
   "metadata": {},
   "outputs": [],
   "source": [
    "body > div.container > div > div.col-md-8.col-12 > section > div:nth-child(2) > div:nth-child(4) > a\n",
    "body > div.container > div > div.col-md-8.col-12 > section > div:nth-child(2) > div > a"
   ]
  },
  {
   "cell_type": "code",
   "execution_count": 63,
   "id": "b1e58e70",
   "metadata": {},
   "outputs": [
    {
     "data": {
      "text/plain": [
       "(1, 1)"
      ]
     },
     "execution_count": 63,
     "metadata": {},
     "output_type": "execute_result"
    }
   ],
   "source": [
    "l1 = [0 , 1]\n",
    "l2 = [1]\n",
    "l2[-1],l1[-1]"
   ]
  },
  {
   "cell_type": "code",
   "execution_count": 65,
   "id": "96f86f4a",
   "metadata": {},
   "outputs": [
    {
     "data": {
      "text/plain": [
       "False"
      ]
     },
     "execution_count": 65,
     "metadata": {},
     "output_type": "execute_result"
    }
   ],
   "source": [
    "next_button = []\n",
    "next_button_is_active = True if next_button else False \n",
    "next_button_is_active"
   ]
  },
  {
   "cell_type": "code",
   "execution_count": 115,
   "id": "6a93b00b",
   "metadata": {},
   "outputs": [],
   "source": [
    "response = httpx.get('https://mob4me.com/samsung/2',headers=headers)"
   ]
  },
  {
   "cell_type": "code",
   "execution_count": 116,
   "id": "281d27f9",
   "metadata": {},
   "outputs": [
    {
     "data": {
      "text/plain": [
       "'<!doctype html>\\n<html dir=\"rtl\" lang=\"ar\">\\n\\n<head>\\n<!-- Google Tag Manager -->\\n<script>(function(w,d,s,l,i){w[l]=w[l]||[];w[l].push({\\'gtm.start\\':\\n    new Date().getTime(),event:\\'gtm.js\\'});var f=d.getElementsByTagName(s)[0],\\n    j=d.createElement(s),dl=l!=\\'dataLayer\\'?\\'&l=\\'+l:\\'\\';j.async=true;j.src=\\n    \\'https://www.googletagmanager.com/gtm.js?id=\\'+i+dl;f.parentNode.insertBefore(j,f);\\n    })(window,document,\\'script\\',\\'dataLayer\\',\\'GTM-PDTJJ4\\');</script>\\n    <!-- End Google Tag Manager -->\\n    <meta charset=\"utf-8\">\\n    \\n\\n    <title>اسعار موبايلات سامسونج 2023 - samsung, سامسونج, جلاكسي, galaxy, galaxy s8, s7 galaxy, mobile, موبايل, samsung galaxy</title>\\n<meta name=\"description\" content=\"اسعار و موصفات موبايلات سامسونج في مصر و السعودية و الامارات Samsung, تعرف علي سعر Galaxy s8\">\\n<meta name=\"keywords\" content=\"samsung galaxy, موبايل, mobile, s7 galaxy, galaxy s8, galaxy, جلاكسي, سامسونج, samsung\">\\n<meta property=\"og:description\" content=\"اسعار و موصفات موبايلات سامسونج في مصر و السعودية و الامارات Samsung, تعرف علي سعر Galaxy s8\">\\n<meta property=\"og:title\" content=\"Samsung\">\\n<meta property=\"og:type\" content=\"product\">\\n<meta property=\"og:url\" content=\"https://mob4me.com/samsung/2\">\\n<meta property=\"og:image\" content=\"https://mob4me.com/Assets/front/images/agencies\">\\n\\n\\n<script type=\"application/ld+json\">{\"@context\":\"https://schema.org\",\"@type\":\"WebPage\",\"name\":\"دليل اسعار الموبايلات\",\"description\":\"دليل اسعار الموبايلات\"}</script>\\n\\n\\n    <meta name=\"viewport\" content=\"width=device-width, initial-scale=1\">\\n    <link rel=\"manifest\" href=\"https://mob4me.com/Assets/front/manifest.json\">\\n\\n\\n    <link href=\"https://mob4me.com/Assets/front/images/web-icon/mob4me-icon-50x52.png\" rel=\"shortcut icon\" type=\"image/x-icon\" />\\n    <link rel=\"icon\" sizes=\"192x192\" href=\"https://mob4me.com/Assets/front/images/web-icon/chrome-touch-icon-192x192.png\">\\n    <meta name=\"theme-color\" content=\"#d51920\">\\n    <meta name=\"csrf-token\" content=\"3KWrhkicTrfKcUaMWL5DccTKjwjZmYUfWkVvOSsy\">\\n    <meta property=\"fb:pages\" content=\"234118283287805\" />\\n\\n    <link rel=\"stylesheet\" type=\"text/css\" href=\"https://mob4me.com/Assets/front/css/hover-min.css\" />\\n    <link rel=\"stylesheet\" type=\"text/css\" href=\"https://mob4me.com/Assets/front/css/bootstrap/bootstrap.rtl.min.css\" />\\n    \\n    \\n    <link rel=\"stylesheet\" type=\"text/css\" href=\"https://mob4me.com/Assets/front/css/font-awesome/font-awesome.min.css\" />\\n    <link rel=\"stylesheet\" type=\"text/css\" href=\"https://mob4me.com/Assets/front/css/css_new.css\" />\\n    \\n    \\n\\n    \\n</head>\\n\\n<body>\\n    \\n    <!-- Google Tag Manager -->\\n    <!-- Google Tag Manager (noscript) -->\\n<noscript><iframe src=\"https://www.googletagmanager.com/ns.html?id=GTM-PDTJJ4\"\\n    height=\"0\" width=\"0\" style=\"display:none;visibility:hidden\"></iframe></noscript>\\n    <!-- End Google Tag Manager (noscript) -->\\n    <!-- End Google Tag Manager -->\\n    <!-- login popup -->\\n\\n\\n\\n<div id=\"login_popup\">\\n\\n    <div class=\"container\">\\n\\n        <h3 class=\"ar\">تسجيل دخول الاعضاء</h3>\\n\\n        <div class=\"row\">\\n\\n            <div class=\"col-5 text-right\">\\n\\n                <div class=\"pad-down-10 text-black\"><small>قم بتسجيل الدخول من خلال حسابات التواصل الاجتماعي</small>\\n                </div>\\n\\n                <a href=\"https://mob4me.com/auth/facebook\" class=\"btn btn-primary\"><i class=\"fa fa-facebook\"></i> الدخول\\n                    بحساب الفيسبوك</a>\\n\\n            </div>\\n\\n            <div class=\"col-2 text-center text-black\">او</div>\\n\\n            <div class=\"col-5\">\\n\\n                <form action=\"https://mob4me.com/login\" method=\"post\">\\n                    <input type=\"hidden\" name=\"_token\" value=\"3KWrhkicTrfKcUaMWL5DccTKjwjZmYUfWkVvOSsy\">                    <div class=\"form-group\">\\n\\n                        <input type=\"text\" class=\"form-control\" placeholder=\"البريد الالكتروني\" name=\"email\">\\n\\n                        <input type=\"password\" class=\"form-control mr-top-5\" placeholder=\"كلمة المرور\" name=\"password\">\\n\\n                    </div>\\n\\n\\n\\n                    <div class=\"text-right\">\\n\\n                        <input type=\"checkbox\" name=\"remember\" id=\"remember\"><label>تذكرني</label>\\n\\n                        <div><a href=\"https://mob4me.com/user/forgot-password\"><small style=\" font-weight: normal;\">نسيت\\n                                    كلمة المرور؟</small></a></div>\\n\\n                        <input type=\"hidden\" name=\"last_page\" value=\"https://mob4me.com/samsung/2\">\\n\\n                        <button type=\"submit\" class=\"btn btn-danger btn-sm\">دخول</button>\\n\\n                    </div>\\n\\n                </form>\\n\\n            </div>\\n\\n        </div>\\n\\n    </div>\\n\\n</div>\\n\\n<!-- login popup -->\\n\\n    <div class=\"container\">\\n\\n        <!-- header start -->\\n<header>\\n    <div class=\"row top-header\">\\n        <div class=\"col-12 col-md-9\">\\n            <div class=\"btn-group btn-group-sm\" role=\"group\" aria-label=\"Basic example\" id=\"login-users-tour\">\\n                                <a href=\"https://mob4me.com/register\" class=\"btn btn-success\"><i class=\"fa fa-user-plus\"></i>التسجيل\\n                    بالموقع</a>\\n                <a class=\"btn btn-danger\" href=\"https://mob4me.com/login\"><i class=\"fa fa-sign-in\"></i> دخول الاعضاء\\n                </a>\\n                            </div>\\n        </div>\\n        <div class=\"col-3 col-md-3 d-none d-sm-block\">\\n            <div class=\"pull-left hidden-xs\">\\n                <ul class=\"list-inline\">\\n                    <li class=\"list-inline-item\"><a href=\"https://www.facebook.com/mob4me.official\" target=\"_blank\" rel=\"nofollow\" data-toggle=\"tooltip\" data-placement=\"bottom\" title=\"تابعنا علي الفيسبوك\"><i class=\"fa fa-lg fa-facebook-square text-gray\"></i></a></li>\\n                    <li class=\"list-inline-item\"><a href=\"https://www.youtube.com/user/mob4m\" target=\"_blank\" rel=\"nofollow\"><i class=\"fa fa-lg fa-youtube-square text-gray\" data-toggle=\"tooltip\" data-placement=\"bottom\" title=\"تابعنا علي Youtube\"></i></a></li>\\n                    <li class=\"list-inline-item\"><a href=\"https://play.google.com/store/apps/details?id=mob4me.qit.com.mob4me\" target=\"_blank\" rel=\"nofollow\" data-toggle=\"tooltip\" data-placement=\"bottom\" title=\"حمل تطبيق الاندرويد\"><i class=\"fa fa-lg fa-android text-gray\"></i></a></li>\\n                </ul>\\n            </div>\\n        </div>\\n    </div>\\n    <div class=\"row mb-2\">\\n        <div class=\"col-4 pull-right d-none d-sm-block\">\\n            <a href=\"https://mob4me.com\">\\n                <img class=\"img-fluid pull-right\" src=\"https://mob4me.com/Assets/front/images/logo.png\" alt=\"دليل اسعار الموبايلات\" title=\"دليل اسعار الموبايلات\">\\n            </a>\\n        </div>\\n        <div class=\"col-8 pull-right text-center\">\\n            <!--        <script type=\"text/javascript\" src=\"https://mob4me.com/adv/java/28\"></script>-->\\n            <!--        <script data-cfasync=\"false\" type=\"text/javascript\" src=\"https://www.predictivdisplay.com/a/display.php?r=2690399\"></script>-->\\n        </div>\\n    </div>\\n    <div class=\"row\">\\n        <nav class=\"navbar navbar-expand-lg navbar-light mb-3\">\\n            <div class=\"container-fluid\">\\n                <a class=\"navbar-brand d-block d-sm-none\" href=\"#\" data-toggle=\"collapse\" data-target=\"#bs-example-navbar-collapse-1\"><img class=\"img-fluid\" src=\"https://mob4me.com/Assets/front/images/logo.png\" width=\"110\" alt=\"دليل اسعار الموبايلات\" title=\"دليل اسعار الموبايلات\"></a>\\n                <button class=\"navbar-toggler\" type=\"button\" data-bs-toggle=\"collapse\" data-bs-target=\"#navbarSupportedContent\" aria-controls=\"navbarSupportedContent\" aria-expanded=\"false\" aria-label=\"Toggle navigation\">\\n                    <span class=\"navbar-toggler-icon\"></span>\\n                </button>\\n                <div class=\"collapse navbar-collapse\" id=\"navbarSupportedContent\">\\n                    <ul class=\"navbar-nav me-auto mb-2 mb-lg-0\">\\n                        <li class=\"nav-item\">\\n                            <a class=\"nav-link\" href=\"https://mob4me.com\" rel=\"dofollow\">\\n                                <span class=\"d-block d-sm-none\">الرئيسية <i class=\"fa fa-home fa-2x\"></i></span><i class=\"fa fa-home fa-2x d-none d-lg-block\"></i>\\n                            </a>\\n                        </li>\\n                        <li class=\"nav-item\">\\n                            <a class=\"nav-link\" href=\"https://mob4me.com/news\" rel=\"dofollow\">الاخبار</a></li>\\n                        <li class=\"nav-item\"><a class=\"nav-link\" href=\"https://mob4me.com/agencies\" rel=\"dofollow\">وكلاء</a>\\n                        </li>\\n                        <li class=\"nav-item\">\\n                            <a class=\"nav-link\" href=\"https://mob4me.com/dealers\" rel=\"dofollow\">تجار</a>\\n                        </li>\\n                        <li class=\"nav-item\">\\n                            <a class=\"nav-link\" href=\"https://mob4me.com/faq\" rel=\"dofollow\">سؤال و جواب</a>\\n                        </li>\\n                        <li class=\"nav-item\">\\n                            <a class=\"nav-link\" href=\"https://mob4me.com/used-mobiles\" rel=\"dofollow\">سوق المستعمل</a>\\n                        </li>\\n                        <li class=\"nav-item\">\\n                            <a class=\"nav-link\" href=\"https://mob4me.com/stolen-devices\" rel=\"dofollow\">هواتف مسروقة</a>\\n                        </li>\\n                        <li class=\"nav-item\">\\n                            <a class=\"nav-link\" href=\"https://mob4me.com/pages/contact-us\" rel=\"dofollow\">اتصل بنا</a>\\n                        </li>\\n                    </ul>\\n                    <div class=\"d-none d-lg-block\">\\n                        <form class=\"d-flex search-box\" action=\"https://mob4me.com/search\" method=\"GET\">\\n                            <input class=\"form-control me-2\" name=\"q\" id=\"search_comp\" data-url=\"https://mob4me.com/searchAutoucomplate\" type=\"search\" placeholder=\"بحث عن منتج\" aria-label=\"Search\" autocomplete=\"off\">\\n                            <button type=\"submit\" class=\"btn btn-danger\"><i class=\"fa fa-search\"></i></button>\\n                        </form>\\n                    </div>\\n                </div>\\n            </div>\\n        </nav>\\n    </div>\\n    <div class=\"row d-block d-sm-none content-box pad-10 mr-down-10\">\\n        <div>\\n            <p class=\"ar\">بدور علي ايه؟ اكتب رقم موديل الموبايل الابدور عليه</p>\\n        </div>\\n        <div>\\n            <form class=\"navbar-form navbar-left row g-3\" action=\"https://mob4me.com/search\" method=\"GET\">\\n                <input type=\"hidden\" name=\"_token\" value=\"3KWrhkicTrfKcUaMWL5DccTKjwjZmYUfWkVvOSsy\">                <div class=\"col-2\">\\n                    <button type=\"submit\" class=\"btn btn-default\"><i class=\"fa fa-search\"></i></button>\\n                </div>\\n                <div class=\"col-10\">\\n                    <input name=\"q\" type=\"text\" id=\"search_comp2\" data-url=\"https://mob4me.com/searchAutoucomplate\" data-provide=\"typeahead\" class=\"search_comp form-control \" placeholder=\"البحث برقم الموديل\" autocomplete=\"off\" />\\n                </div>\\n            </form>\\n        </div>\\n    </div>\\n    \\n</header>\\n<!-- header end -->\\n<!-- adv -->\\n<section class=\"\">\\n    <div class=\"row text-center\">\\n        <script async src=\"//pagead2.googlesyndication.com/pagead/js/adsbygoogle.js\"></script>\\n        <!-- mobapp4me -->\\n        <ins class=\"adsbygoogle\" style=\"display:block\" data-ad-client=\"ca-pub-9079779688748490\" data-ad-slot=\"7758469207\" data-ad-format=\"auto\"></ins>\\n        <script>\\n            (adsbygoogle = window.adsbygoogle || []).push({});\\n\\n        </script>\\n    </div>\\n</section>\\n<!-- adv -->\\n<!-- /top-link-block -->\\n<a href=\"#top\" id=\"toTop\"><i class=\"fa fa-chevron-up text_w\"></i></a>\\n<!-- /top-link-block -->\\n<!-- test code 12-3-2017 -->\\n\\n<!-- remove me in 15-3-2017 -->\\n        <div class=\"row content-box mr-top-10\">\\n            <!-- right-->\\n            <div class=\"col-md-2\"><div class=\"d-block d-sm-none container mr-down-10 \">\\r\\n    <nav class=\"navbar navbar-expand-lg navbar-light\">\\r\\n        <div class=\"container-fluid\">\\r\\n            <a class=\"navbar-brand\" href=\"#\">شركات الموبايلات</a>\\r\\n            <button class=\"navbar-toggler\" type=\"button\" data-bs-toggle=\"collapse\" data-bs-target=\"#mobiles_company\"\\r\\n                aria-controls=\"navbarSupportedContent\" aria-expanded=\"false\" aria-label=\"Toggle navigation\">\\r\\n                <span class=\"navbar-toggler-icon\"></span>\\r\\n            </button>\\r\\n            <div class=\"collapse navbar-collapse\" id=\"mobiles_company\">\\r\\n                <ul class=\"navbar-nav me-auto mb-2 mb-lg-0 mobile-menu\">\\r\\n                                        <li class=\"nav-item\">\\r\\n                        <a href=\"https://mob4me.com/samsung\" data-toggle=\"tooltip\" data-placement=\"left\"\\r\\n                            title=\"موبايلات سامسونج\">Samsung</a>\\r\\n                    </li>\\r\\n                                        <li class=\"nav-item\">\\r\\n                        <a href=\"https://mob4me.com/huawei\" data-toggle=\"tooltip\" data-placement=\"left\"\\r\\n                            title=\"موبايلات هواوي\">Huawei</a>\\r\\n                    </li>\\r\\n                                        <li class=\"nav-item\">\\r\\n                        <a href=\"https://mob4me.com/lenovo\" data-toggle=\"tooltip\" data-placement=\"left\"\\r\\n                            title=\"موبايلات لينوفو\">Lenovo</a>\\r\\n                    </li>\\r\\n                                        <li class=\"nav-item\">\\r\\n                        <a href=\"https://mob4me.com/honor\" data-toggle=\"tooltip\" data-placement=\"left\"\\r\\n                            title=\"موبايلات هونر\">Honor</a>\\r\\n                    </li>\\r\\n                                        <li class=\"nav-item\">\\r\\n                        <a href=\"https://mob4me.com/apple\" data-toggle=\"tooltip\" data-placement=\"left\"\\r\\n                            title=\"موبايلات أبل\">Apple</a>\\r\\n                    </li>\\r\\n                                        <li class=\"nav-item\">\\r\\n                        <a href=\"https://mob4me.com/htc\" data-toggle=\"tooltip\" data-placement=\"left\"\\r\\n                            title=\"موبايلات أتش تي سي\">HTC</a>\\r\\n                    </li>\\r\\n                                        <li class=\"nav-item\">\\r\\n                        <a href=\"https://mob4me.com/microsoft\" data-toggle=\"tooltip\" data-placement=\"left\"\\r\\n                            title=\"موبايلات ميكروسوفت\">Microsoft</a>\\r\\n                    </li>\\r\\n                                        <li class=\"nav-item\">\\r\\n                        <a href=\"https://mob4me.com/sony\" data-toggle=\"tooltip\" data-placement=\"left\"\\r\\n                            title=\"موبايلات سوني\">Sony</a>\\r\\n                    </li>\\r\\n                                        <li class=\"nav-item\">\\r\\n                        <a href=\"https://mob4me.com/lg\" data-toggle=\"tooltip\" data-placement=\"left\"\\r\\n                            title=\"موبايلات ال جي\">LG</a>\\r\\n                    </li>\\r\\n                                        <li class=\"nav-item\">\\r\\n                        <a href=\"https://mob4me.com/nokia\" data-toggle=\"tooltip\" data-placement=\"left\"\\r\\n                            title=\"موبايلات نوكيا\">Nokia</a>\\r\\n                    </li>\\r\\n                                        <li class=\"nav-item\">\\r\\n                        <a href=\"https://mob4me.com/blackberry\" data-toggle=\"tooltip\" data-placement=\"left\"\\r\\n                            title=\"موبايلات بلاك بيري\">Black Berry</a>\\r\\n                    </li>\\r\\n                                        <li class=\"nav-item\">\\r\\n                        <a href=\"https://mob4me.com/alcatel\" data-toggle=\"tooltip\" data-placement=\"left\"\\r\\n                            title=\"موبايلات الكاتيل\">Alcatel</a>\\r\\n                    </li>\\r\\n                                        <li class=\"nav-item\">\\r\\n                        <a href=\"https://mob4me.com/motorola\" data-toggle=\"tooltip\" data-placement=\"left\"\\r\\n                            title=\"موبايلات موتورولا\">Motorola</a>\\r\\n                    </li>\\r\\n                                        <li class=\"nav-item\">\\r\\n                        <a href=\"https://mob4me.com/vodafone\" data-toggle=\"tooltip\" data-placement=\"left\"\\r\\n                            title=\"موبايلات فودافون\">Vodafone</a>\\r\\n                    </li>\\r\\n                                        <li class=\"nav-item\">\\r\\n                        <a href=\"https://mob4me.com/acer\" data-toggle=\"tooltip\" data-placement=\"left\"\\r\\n                            title=\"موبايلات ايسر\">Acer</a>\\r\\n                    </li>\\r\\n                                        <li class=\"nav-item\">\\r\\n                        <a href=\"https://mob4me.com/oppo\" data-toggle=\"tooltip\" data-placement=\"left\"\\r\\n                            title=\"موبايلات اوبو\">OPPO</a>\\r\\n                    </li>\\r\\n                                        <li class=\"nav-item\">\\r\\n                        <a href=\"https://mob4me.com/asus\" data-toggle=\"tooltip\" data-placement=\"left\"\\r\\n                            title=\"موبايلات اسوس\">Asus</a>\\r\\n                    </li>\\r\\n                                        <li class=\"nav-item\">\\r\\n                        <a href=\"https://mob4me.com/realme\" data-toggle=\"tooltip\" data-placement=\"left\"\\r\\n                            title=\"موبايلات ريلمي\">Realme</a>\\r\\n                    </li>\\r\\n                                        <li class=\"nav-item\">\\r\\n                        <a href=\"https://mob4me.com/zte\" data-toggle=\"tooltip\" data-placement=\"left\"\\r\\n                            title=\"موبايلات ZTE\">ZTE</a>\\r\\n                    </li>\\r\\n                                        <li class=\"nav-item\">\\r\\n                        <a href=\"https://mob4me.com/gfive\" data-toggle=\"tooltip\" data-placement=\"left\"\\r\\n                            title=\"موبايلات جي فايف\">G&#039;FIVE</a>\\r\\n                    </li>\\r\\n                                        <li class=\"nav-item\">\\r\\n                        <a href=\"https://mob4me.com/sonyericsson\" data-toggle=\"tooltip\" data-placement=\"left\"\\r\\n                            title=\"موبايلات سوني اريكسون\">Sony Ericsson</a>\\r\\n                    </li>\\r\\n                                        <li class=\"nav-item\">\\r\\n                        <a href=\"https://mob4me.com/etisalat\" data-toggle=\"tooltip\" data-placement=\"left\"\\r\\n                            title=\"موبايلات اتصالات\">Etisalat</a>\\r\\n                    </li>\\r\\n                                        <li class=\"nav-item\">\\r\\n                        <a href=\"https://mob4me.com/gtide\" data-toggle=\"tooltip\" data-placement=\"left\"\\r\\n                            title=\"موبايلات جي تايد\">G-TIDE</a>\\r\\n                    </li>\\r\\n                                        <li class=\"nav-item\">\\r\\n                        <a href=\"https://mob4me.com/imate\" data-toggle=\"tooltip\" data-placement=\"left\"\\r\\n                            title=\"موبايلات أي ميت\">i-mate</a>\\r\\n                    </li>\\r\\n                                        <li class=\"nav-item\">\\r\\n                        <a href=\"https://mob4me.com/konka\" data-toggle=\"tooltip\" data-placement=\"left\"\\r\\n                            title=\"موبايلات كونكا\">KONKA</a>\\r\\n                    </li>\\r\\n                                        <li class=\"nav-item\">\\r\\n                        <a href=\"https://mob4me.com/anycool\" data-toggle=\"tooltip\" data-placement=\"left\"\\r\\n                            title=\"موبايلات أني كول\">Anycool</a>\\r\\n                    </li>\\r\\n                                        <li class=\"nav-item\">\\r\\n                        <a href=\"https://mob4me.com/sagetel\" data-toggle=\"tooltip\" data-placement=\"left\"\\r\\n                            title=\"موبايلات سيجاتل\">Sagetel</a>\\r\\n                    </li>\\r\\n                                        <li class=\"nav-item\">\\r\\n                        <a href=\"https://mob4me.com/connect\" data-toggle=\"tooltip\" data-placement=\"left\"\\r\\n                            title=\"موبايلات كونكت\">Connect</a>\\r\\n                    </li>\\r\\n                                        <li class=\"nav-item\">\\r\\n                        <a href=\"https://mob4me.com/hisense\" data-toggle=\"tooltip\" data-placement=\"left\"\\r\\n                            title=\"موبايلات هايسنس\">Hisense</a>\\r\\n                    </li>\\r\\n                                        <li class=\"nav-item\">\\r\\n                        <a href=\"https://mob4me.com/prestigio\" data-toggle=\"tooltip\" data-placement=\"left\"\\r\\n                            title=\"موبايلات Prestigio\">Prestigio</a>\\r\\n                    </li>\\r\\n                                        <li class=\"nav-item\">\\r\\n                        <a href=\"https://mob4me.com/vivo\" data-toggle=\"tooltip\" data-placement=\"left\"\\r\\n                            title=\"موبايلات فيفو\">Vivo</a>\\r\\n                    </li>\\r\\n                                        <li class=\"nav-item\">\\r\\n                        <a href=\"https://mob4me.com/oneplus\" data-toggle=\"tooltip\" data-placement=\"left\"\\r\\n                            title=\"موبايلات OnePlus\">OnePlus</a>\\r\\n                    </li>\\r\\n                                        <li class=\"nav-item\">\\r\\n                        <a href=\"https://mob4me.com/archos\" data-toggle=\"tooltip\" data-placement=\"left\"\\r\\n                            title=\"موبايلات اركوس\">Archos</a>\\r\\n                    </li>\\r\\n                                        <li class=\"nav-item\">\\r\\n                        <a href=\"https://mob4me.com/tecno\" data-toggle=\"tooltip\" data-placement=\"left\"\\r\\n                            title=\"موبايلات تكنو\">TECNO</a>\\r\\n                    </li>\\r\\n                                        <li class=\"nav-item\">\\r\\n                        <a href=\"https://mob4me.com/yezz\" data-toggle=\"tooltip\" data-placement=\"left\"\\r\\n                            title=\"موبايلات Yezz\">Yezz</a>\\r\\n                    </li>\\r\\n                                        <li class=\"nav-item\">\\r\\n                        <a href=\"https://mob4me.com/vsun\" data-toggle=\"tooltip\" data-placement=\"left\"\\r\\n                            title=\"موبايلات في صن\">Vsun</a>\\r\\n                    </li>\\r\\n                                        <li class=\"nav-item\">\\r\\n                        <a href=\"https://mob4me.com/infinix\" data-toggle=\"tooltip\" data-placement=\"left\"\\r\\n                            title=\"موبايلات إنفنيكس\">infinix</a>\\r\\n                    </li>\\r\\n                                        <li class=\"nav-item\">\\r\\n                        <a href=\"https://mob4me.com/xiaomi\" data-toggle=\"tooltip\" data-placement=\"left\"\\r\\n                            title=\"موبايلات شاومي\">Xiaomi</a>\\r\\n                    </li>\\r\\n                                    </ul>\\r\\n            </div>\\r\\n        </div>\\r\\n    </nav>\\r\\n</div>\\r\\n\\r\\n\\r\\n<div class=\"d-none d-sm-block\" id=\"right-menu-tour\">\\r\\n\\r\\n    <div class=\"box ar mr-top-10\">\\r\\n        <div class=\"company-right\">\\r\\n            <h3 class=\"red_background\">الموبايلات</h3>\\r\\n            <ul class=\"list-unstyled\">\\r\\n                                <li>\\r\\n                    <a href=\"https://mob4me.com/samsung\" data-toggle=\"tooltip\" data-placement=\"left\" title=\"\"\\r\\n                        data-original-title=\"موبايلات سامسونج\">Samsung</a>\\r\\n                </li>\\r\\n                                <li>\\r\\n                    <a href=\"https://mob4me.com/huawei\" data-toggle=\"tooltip\" data-placement=\"left\" title=\"\"\\r\\n                        data-original-title=\"موبايلات هواوي\">Huawei</a>\\r\\n                </li>\\r\\n                                <li>\\r\\n                    <a href=\"https://mob4me.com/lenovo\" data-toggle=\"tooltip\" data-placement=\"left\" title=\"\"\\r\\n                        data-original-title=\"موبايلات لينوفو\">Lenovo</a>\\r\\n                </li>\\r\\n                                <li>\\r\\n                    <a href=\"https://mob4me.com/honor\" data-toggle=\"tooltip\" data-placement=\"left\" title=\"\"\\r\\n                        data-original-title=\"موبايلات هونر\">Honor</a>\\r\\n                </li>\\r\\n                                <li>\\r\\n                    <a href=\"https://mob4me.com/apple\" data-toggle=\"tooltip\" data-placement=\"left\" title=\"\"\\r\\n                        data-original-title=\"موبايلات أبل\">Apple</a>\\r\\n                </li>\\r\\n                                <li>\\r\\n                    <a href=\"https://mob4me.com/htc\" data-toggle=\"tooltip\" data-placement=\"left\" title=\"\"\\r\\n                        data-original-title=\"موبايلات أتش تي سي\">HTC</a>\\r\\n                </li>\\r\\n                                <li>\\r\\n                    <a href=\"https://mob4me.com/microsoft\" data-toggle=\"tooltip\" data-placement=\"left\" title=\"\"\\r\\n                        data-original-title=\"موبايلات ميكروسوفت\">Microsoft</a>\\r\\n                </li>\\r\\n                                <li>\\r\\n                    <a href=\"https://mob4me.com/sony\" data-toggle=\"tooltip\" data-placement=\"left\" title=\"\"\\r\\n                        data-original-title=\"موبايلات سوني\">Sony</a>\\r\\n                </li>\\r\\n                                <li>\\r\\n                    <a href=\"https://mob4me.com/lg\" data-toggle=\"tooltip\" data-placement=\"left\" title=\"\"\\r\\n                        data-original-title=\"موبايلات ال جي\">LG</a>\\r\\n                </li>\\r\\n                                <li>\\r\\n                    <a href=\"https://mob4me.com/nokia\" data-toggle=\"tooltip\" data-placement=\"left\" title=\"\"\\r\\n                        data-original-title=\"موبايلات نوكيا\">Nokia</a>\\r\\n                </li>\\r\\n                                <li>\\r\\n                    <a href=\"https://mob4me.com/blackberry\" data-toggle=\"tooltip\" data-placement=\"left\" title=\"\"\\r\\n                        data-original-title=\"موبايلات بلاك بيري\">Black Berry</a>\\r\\n                </li>\\r\\n                                <li>\\r\\n                    <a href=\"https://mob4me.com/alcatel\" data-toggle=\"tooltip\" data-placement=\"left\" title=\"\"\\r\\n                        data-original-title=\"موبايلات الكاتيل\">Alcatel</a>\\r\\n                </li>\\r\\n                                <li>\\r\\n                    <a href=\"https://mob4me.com/motorola\" data-toggle=\"tooltip\" data-placement=\"left\" title=\"\"\\r\\n                        data-original-title=\"موبايلات موتورولا\">Motorola</a>\\r\\n                </li>\\r\\n                                <li>\\r\\n                    <a href=\"https://mob4me.com/vodafone\" data-toggle=\"tooltip\" data-placement=\"left\" title=\"\"\\r\\n                        data-original-title=\"موبايلات فودافون\">Vodafone</a>\\r\\n                </li>\\r\\n                                <li>\\r\\n                    <a href=\"https://mob4me.com/acer\" data-toggle=\"tooltip\" data-placement=\"left\" title=\"\"\\r\\n                        data-original-title=\"موبايلات ايسر\">Acer</a>\\r\\n                </li>\\r\\n                                <li>\\r\\n                    <a href=\"https://mob4me.com/oppo\" data-toggle=\"tooltip\" data-placement=\"left\" title=\"\"\\r\\n                        data-original-title=\"موبايلات اوبو\">OPPO</a>\\r\\n                </li>\\r\\n                                <li>\\r\\n                    <a href=\"https://mob4me.com/asus\" data-toggle=\"tooltip\" data-placement=\"left\" title=\"\"\\r\\n                        data-original-title=\"موبايلات اسوس\">Asus</a>\\r\\n                </li>\\r\\n                                <li>\\r\\n                    <a href=\"https://mob4me.com/realme\" data-toggle=\"tooltip\" data-placement=\"left\" title=\"\"\\r\\n                        data-original-title=\"موبايلات ريلمي\">Realme</a>\\r\\n                </li>\\r\\n                                <li>\\r\\n                    <a href=\"https://mob4me.com/zte\" data-toggle=\"tooltip\" data-placement=\"left\" title=\"\"\\r\\n                        data-original-title=\"موبايلات ZTE\">ZTE</a>\\r\\n                </li>\\r\\n                                <li>\\r\\n                    <a href=\"https://mob4me.com/gfive\" data-toggle=\"tooltip\" data-placement=\"left\" title=\"\"\\r\\n                        data-original-title=\"موبايلات جي فايف\">G&#039;FIVE</a>\\r\\n                </li>\\r\\n                                <li>\\r\\n                    <a href=\"https://mob4me.com/sonyericsson\" data-toggle=\"tooltip\" data-placement=\"left\" title=\"\"\\r\\n                        data-original-title=\"موبايلات سوني اريكسون\">Sony Ericsson</a>\\r\\n                </li>\\r\\n                                <li>\\r\\n                    <a href=\"https://mob4me.com/etisalat\" data-toggle=\"tooltip\" data-placement=\"left\" title=\"\"\\r\\n                        data-original-title=\"موبايلات اتصالات\">Etisalat</a>\\r\\n                </li>\\r\\n                                <li>\\r\\n                    <a href=\"https://mob4me.com/gtide\" data-toggle=\"tooltip\" data-placement=\"left\" title=\"\"\\r\\n                        data-original-title=\"موبايلات جي تايد\">G-TIDE</a>\\r\\n                </li>\\r\\n                                <li>\\r\\n                    <a href=\"https://mob4me.com/imate\" data-toggle=\"tooltip\" data-placement=\"left\" title=\"\"\\r\\n                        data-original-title=\"موبايلات أي ميت\">i-mate</a>\\r\\n                </li>\\r\\n                                <li>\\r\\n                    <a href=\"https://mob4me.com/konka\" data-toggle=\"tooltip\" data-placement=\"left\" title=\"\"\\r\\n                        data-original-title=\"موبايلات كونكا\">KONKA</a>\\r\\n                </li>\\r\\n                                <li>\\r\\n                    <a href=\"https://mob4me.com/anycool\" data-toggle=\"tooltip\" data-placement=\"left\" title=\"\"\\r\\n                        data-original-title=\"موبايلات أني كول\">Anycool</a>\\r\\n                </li>\\r\\n                                <li>\\r\\n                    <a href=\"https://mob4me.com/sagetel\" data-toggle=\"tooltip\" data-placement=\"left\" title=\"\"\\r\\n                        data-original-title=\"موبايلات سيجاتل\">Sagetel</a>\\r\\n                </li>\\r\\n                                <li>\\r\\n                    <a href=\"https://mob4me.com/connect\" data-toggle=\"tooltip\" data-placement=\"left\" title=\"\"\\r\\n                        data-original-title=\"موبايلات كونكت\">Connect</a>\\r\\n                </li>\\r\\n                                <li>\\r\\n                    <a href=\"https://mob4me.com/hisense\" data-toggle=\"tooltip\" data-placement=\"left\" title=\"\"\\r\\n                        data-original-title=\"موبايلات هايسنس\">Hisense</a>\\r\\n                </li>\\r\\n                                <li>\\r\\n                    <a href=\"https://mob4me.com/prestigio\" data-toggle=\"tooltip\" data-placement=\"left\" title=\"\"\\r\\n                        data-original-title=\"موبايلات Prestigio\">Prestigio</a>\\r\\n                </li>\\r\\n                                <li>\\r\\n                    <a href=\"https://mob4me.com/vivo\" data-toggle=\"tooltip\" data-placement=\"left\" title=\"\"\\r\\n                        data-original-title=\"موبايلات فيفو\">Vivo</a>\\r\\n                </li>\\r\\n                                <li>\\r\\n                    <a href=\"https://mob4me.com/oneplus\" data-toggle=\"tooltip\" data-placement=\"left\" title=\"\"\\r\\n                        data-original-title=\"موبايلات OnePlus\">OnePlus</a>\\r\\n                </li>\\r\\n                                <li>\\r\\n                    <a href=\"https://mob4me.com/archos\" data-toggle=\"tooltip\" data-placement=\"left\" title=\"\"\\r\\n                        data-original-title=\"موبايلات اركوس\">Archos</a>\\r\\n                </li>\\r\\n                                <li>\\r\\n                    <a href=\"https://mob4me.com/tecno\" data-toggle=\"tooltip\" data-placement=\"left\" title=\"\"\\r\\n                        data-original-title=\"موبايلات تكنو\">TECNO</a>\\r\\n                </li>\\r\\n                                <li>\\r\\n                    <a href=\"https://mob4me.com/yezz\" data-toggle=\"tooltip\" data-placement=\"left\" title=\"\"\\r\\n                        data-original-title=\"موبايلات Yezz\">Yezz</a>\\r\\n                </li>\\r\\n                                <li>\\r\\n                    <a href=\"https://mob4me.com/vsun\" data-toggle=\"tooltip\" data-placement=\"left\" title=\"\"\\r\\n                        data-original-title=\"موبايلات في صن\">Vsun</a>\\r\\n                </li>\\r\\n                                <li>\\r\\n                    <a href=\"https://mob4me.com/infinix\" data-toggle=\"tooltip\" data-placement=\"left\" title=\"\"\\r\\n                        data-original-title=\"موبايلات إنفنيكس\">infinix</a>\\r\\n                </li>\\r\\n                                <li>\\r\\n                    <a href=\"https://mob4me.com/xiaomi\" data-toggle=\"tooltip\" data-placement=\"left\" title=\"\"\\r\\n                        data-original-title=\"موبايلات شاومي\">Xiaomi</a>\\r\\n                </li>\\r\\n                            </ul>\\r\\n        </div>\\r\\n    </div>\\r\\n</div></div>\\n            <!-- content -->\\n            <div class=\"col-md-8 col-12\">\\n                <div class=\"col-12\">\\n                                    </div>\\n                    \\n    <section>\\n        <div class=\"row\">\\n            <span class=\"fa-stack fa-lg text-red dot pull-right mr-top-10 col-2\"> <i class=\"fa fa-square fa-stack-2x \"></i> <i\\n                    class=\"fa fa-circle fa-stack-1x fa-inverse\"></i> </span>\\n            <h1 class=\"ar h1-icon mr-down-10 col-10\">أسعار موبايلات سامسونج</h1>\\n            <p class=\"ar\">سامسونج Samsung شركة كورية جنوبية مختصة في صناعة الألكترونيك، وهو الاسم الأول لمجموعة كورية في مجال الصناعة. تأسست في 1 مارس 1938 في دايجو.\\r\\nوتعتبر مجموعة samsung Galaxy من اشهر خطوط الانتاج المميزة في الفترة الحالية</p>\\n        </div>\\n        <div class=\"row\">\\n                        <div class=\"col-6 col-md-3 product-box mr-down-10 hvr-float-shadow\" data-toggle=\"tooltip\"\\n                data-placement=\"top\" title=\"\" data-original-title=\"Samsung Galaxy S22 plus 5G\"> <a\\n                    href=\"https://mob4me.com/samsung-galaxy-s22-plus-5g\">\\n                    <div class=\"img text-center\">\\n                        <img src=\"https://mob4me.com/Assets/front/images/mobile/galaxy-s22-plus-5g-medium.jpg\"\\n                            alt=\"Samsung Galaxy S22 plus 5G\" title=\"Samsung Galaxy S22 plus 5G\" class=\"img-responsive\"></div>\\n                    <div class=\"title red_background text-center\">\\n                        <h2>Galaxy S22 plus 5G</h2>\\n                    </div>\\n                </a>\\n            </div>\\n                        <div class=\"col-6 col-md-3 product-box mr-down-10 hvr-float-shadow\" data-toggle=\"tooltip\"\\n                data-placement=\"top\" title=\"\" data-original-title=\"Samsung Galaxy S22 5G\"> <a\\n                    href=\"https://mob4me.com/samsung-galaxy-s22-5g\">\\n                    <div class=\"img text-center\">\\n                        <img src=\"https://mob4me.com/Assets/front/images/mobile/galaxy-s22-5g-medium.jpg\"\\n                            alt=\"Samsung Galaxy S22 5G\" title=\"Samsung Galaxy S22 5G\" class=\"img-responsive\"></div>\\n                    <div class=\"title red_background text-center\">\\n                        <h2>Galaxy S22 5G</h2>\\n                    </div>\\n                </a>\\n            </div>\\n                        <div class=\"col-6 col-md-3 product-box mr-down-10 hvr-float-shadow\" data-toggle=\"tooltip\"\\n                data-placement=\"top\" title=\"\" data-original-title=\"Samsung Galaxy A03 Core\"> <a\\n                    href=\"https://mob4me.com/samsung-galaxy-a03-core\">\\n                    <div class=\"img text-center\">\\n                        <img src=\"https://mob4me.com/Assets/front/images/mobile/galaxy-a03-core-medium.jpg\"\\n                            alt=\"Samsung Galaxy A03 Core\" title=\"Samsung Galaxy A03 Core\" class=\"img-responsive\"></div>\\n                    <div class=\"title red_background text-center\">\\n                        <h2>Galaxy A03 Core</h2>\\n                    </div>\\n                </a>\\n            </div>\\n                        <div class=\"col-6 col-md-3 product-box mr-down-10 hvr-float-shadow\" data-toggle=\"tooltip\"\\n                data-placement=\"top\" title=\"\" data-original-title=\"Samsung Galaxy S21 FE 5G\"> <a\\n                    href=\"https://mob4me.com/samsung-galaxy-s21-fe-5g\">\\n                    <div class=\"img text-center\">\\n                        <img src=\"https://mob4me.com/Assets/front/images/mobile/galaxy-s21-fe-5g-medium.jpg\"\\n                            alt=\"Samsung Galaxy S21 FE 5G\" title=\"Samsung Galaxy S21 FE 5G\" class=\"img-responsive\"></div>\\n                    <div class=\"title red_background text-center\">\\n                        <h2>Galaxy S21 FE 5G</h2>\\n                    </div>\\n                </a>\\n            </div>\\n                        <div class=\"col-6 col-md-3 product-box mr-down-10 hvr-float-shadow\" data-toggle=\"tooltip\"\\n                data-placement=\"top\" title=\"\" data-original-title=\"Samsung Galaxy M22\"> <a\\n                    href=\"https://mob4me.com/samsung-galaxy-m22\">\\n                    <div class=\"img text-center\">\\n                        <img src=\"https://mob4me.com/Assets/front/images/mobile/galaxy-m22-medium.jpg\"\\n                            alt=\"Samsung Galaxy M22\" title=\"Samsung Galaxy M22\" class=\"img-responsive\"></div>\\n                    <div class=\"title red_background text-center\">\\n                        <h2>Galaxy M22</h2>\\n                    </div>\\n                </a>\\n            </div>\\n                        <div class=\"col-6 col-md-3 product-box mr-down-10 hvr-float-shadow\" data-toggle=\"tooltip\"\\n                data-placement=\"top\" title=\"\" data-original-title=\"Samsung Galaxy M52 5G\"> <a\\n                    href=\"https://mob4me.com/samsung-galaxy-m52-5g\">\\n                    <div class=\"img text-center\">\\n                        <img src=\"https://mob4me.com/Assets/front/images/mobile/galaxy-m52-5g-medium.jpg\"\\n                            alt=\"Samsung Galaxy M52 5G\" title=\"Samsung Galaxy M52 5G\" class=\"img-responsive\"></div>\\n                    <div class=\"title red_background text-center\">\\n                        <h2>Galaxy M52 5G</h2>\\n                    </div>\\n                </a>\\n            </div>\\n                        <div class=\"col-6 col-md-3 product-box mr-down-10 hvr-float-shadow\" data-toggle=\"tooltip\"\\n                data-placement=\"top\" title=\"\" data-original-title=\"Samsung Galaxy A52s 5G\"> <a\\n                    href=\"https://mob4me.com/samsung-galaxy-a52s-5g\">\\n                    <div class=\"img text-center\">\\n                        <img src=\"https://mob4me.com/Assets/front/images/mobile/galaxy-a52s-5g-medium.jpg\"\\n                            alt=\"Samsung Galaxy A52s 5G\" title=\"Samsung Galaxy A52s 5G\" class=\"img-responsive\"></div>\\n                    <div class=\"title red_background text-center\">\\n                        <h2>Galaxy A52s 5G</h2>\\n                    </div>\\n                </a>\\n            </div>\\n                        <div class=\"col-6 col-md-3 product-box mr-down-10 hvr-float-shadow\" data-toggle=\"tooltip\"\\n                data-placement=\"top\" title=\"\" data-original-title=\"Samsung Galaxy Z Fold3 5G\"> <a\\n                    href=\"https://mob4me.com/samsung-galaxy-z-fold3-5g\">\\n                    <div class=\"img text-center\">\\n                        <img src=\"https://mob4me.com/Assets/front/images/mobile/galaxy-z-fold3-5g-medium.jpg\"\\n                            alt=\"Samsung Galaxy Z Fold3 5G\" title=\"Samsung Galaxy Z Fold3 5G\" class=\"img-responsive\"></div>\\n                    <div class=\"title red_background text-center\">\\n                        <h2>Galaxy Z Fold3 5G</h2>\\n                    </div>\\n                </a>\\n            </div>\\n                        <div class=\"col-6 col-md-3 product-box mr-down-10 hvr-float-shadow\" data-toggle=\"tooltip\"\\n                data-placement=\"top\" title=\"\" data-original-title=\"Samsung Galaxy Z Flip3 5G\"> <a\\n                    href=\"https://mob4me.com/samsung-galaxy-z-flip3-5g\">\\n                    <div class=\"img text-center\">\\n                        <img src=\"https://mob4me.com/Assets/front/images/mobile/galaxy-z-flip3-5g-medium.jpg\"\\n                            alt=\"Samsung Galaxy Z Flip3 5G\" title=\"Samsung Galaxy Z Flip3 5G\" class=\"img-responsive\"></div>\\n                    <div class=\"title red_background text-center\">\\n                        <h2>Galaxy Z Flip3 5G</h2>\\n                    </div>\\n                </a>\\n            </div>\\n                        <div class=\"col-6 col-md-3 product-box mr-down-10 hvr-float-shadow\" data-toggle=\"tooltip\"\\n                data-placement=\"top\" title=\"\" data-original-title=\"Samsung Galaxy M32\"> <a\\n                    href=\"https://mob4me.com/samsung-galaxy-m32\">\\n                    <div class=\"img text-center\">\\n                        <img src=\"https://mob4me.com/Assets/front/images/mobile/galaxy-m32-medium.jpg\"\\n                            alt=\"Samsung Galaxy M32\" title=\"Samsung Galaxy M32\" class=\"img-responsive\"></div>\\n                    <div class=\"title red_background text-center\">\\n                        <h2>Galaxy M32</h2>\\n                    </div>\\n                </a>\\n            </div>\\n                        <div class=\"col-6 col-md-3 product-box mr-down-10 hvr-float-shadow\" data-toggle=\"tooltip\"\\n                data-placement=\"top\" title=\"\" data-original-title=\"Samsung Galaxy A03s\"> <a\\n                    href=\"https://mob4me.com/samsung-galaxy-a03s\">\\n                    <div class=\"img text-center\">\\n                        <img src=\"https://mob4me.com/Assets/front/images/mobile/galaxy-a03s-medium.jpg\"\\n                            alt=\"Samsung Galaxy A03s\" title=\"Samsung Galaxy A03s\" class=\"img-responsive\"></div>\\n                    <div class=\"title red_background text-center\">\\n                        <h2>Galaxy A03s</h2>\\n                    </div>\\n                </a>\\n            </div>\\n                        <div class=\"col-6 col-md-3 product-box mr-down-10 hvr-float-shadow\" data-toggle=\"tooltip\"\\n                data-placement=\"top\" title=\"\" data-original-title=\"Samsung Galaxy M12\"> <a\\n                    href=\"https://mob4me.com/samsung-galaxy-m12\">\\n                    <div class=\"img text-center\">\\n                        <img src=\"https://mob4me.com/Assets/front/images/mobile/samsung-galaxy-m12-medium.jpg\"\\n                            alt=\"Samsung Galaxy M12\" title=\"Samsung Galaxy M12\" class=\"img-responsive\"></div>\\n                    <div class=\"title red_background text-center\">\\n                        <h2>Galaxy M12</h2>\\n                    </div>\\n                </a>\\n            </div>\\n                        <div class=\"col-6 col-md-3 product-box mr-down-10 hvr-float-shadow\" data-toggle=\"tooltip\"\\n                data-placement=\"top\" title=\"\" data-original-title=\"Samsung Galaxy A22\"> <a\\n                    href=\"https://mob4me.com/samsung-galaxy-a22\">\\n                    <div class=\"img text-center\">\\n                        <img src=\"https://mob4me.com/Assets/front/images/mobile/galaxy-a22-medium.jpg\"\\n                            alt=\"Samsung Galaxy A22\" title=\"Samsung Galaxy A22\" class=\"img-responsive\"></div>\\n                    <div class=\"title red_background text-center\">\\n                        <h2>Galaxy A22</h2>\\n                    </div>\\n                </a>\\n            </div>\\n                        <div class=\"col-6 col-md-3 product-box mr-down-10 hvr-float-shadow\" data-toggle=\"tooltip\"\\n                data-placement=\"top\" title=\"\" data-original-title=\"Samsung Galaxy A32\"> <a\\n                    href=\"https://mob4me.com/samsung-galaxy-a32\">\\n                    <div class=\"img text-center\">\\n                        <img src=\"https://mob4me.com/Assets/front/images/mobile/galaxy-a32-medium.jpg\"\\n                            alt=\"Samsung Galaxy A32\" title=\"Samsung Galaxy A32\" class=\"img-responsive\"></div>\\n                    <div class=\"title red_background text-center\">\\n                        <h2>Galaxy A32</h2>\\n                    </div>\\n                </a>\\n            </div>\\n                        <div class=\"col-6 col-md-3 product-box mr-down-10 hvr-float-shadow\" data-toggle=\"tooltip\"\\n                data-placement=\"top\" title=\"\" data-original-title=\"Samsung Galaxy M62\"> <a\\n                    href=\"https://mob4me.com/samsung-galaxy-m62\">\\n                    <div class=\"img text-center\">\\n                        <img src=\"https://mob4me.com/Assets/front/images/mobile/galaxy-m62-medium.jpg\"\\n                            alt=\"Samsung Galaxy M62\" title=\"Samsung Galaxy M62\" class=\"img-responsive\"></div>\\n                    <div class=\"title red_background text-center\">\\n                        <h2>Galaxy M62</h2>\\n                    </div>\\n                </a>\\n            </div>\\n                        <div class=\"col-6 col-md-3 product-box mr-down-10 hvr-float-shadow\" data-toggle=\"tooltip\"\\n                data-placement=\"top\" title=\"\" data-original-title=\"Samsung Galaxy A72\"> <a\\n                    href=\"https://mob4me.com/samsung-galaxy-a72\">\\n                    <div class=\"img text-center\">\\n                        <img src=\"https://mob4me.com/Assets/front/images/mobile/galaxy-a72-medium.jpg\"\\n                            alt=\"Samsung Galaxy A72\" title=\"Samsung Galaxy A72\" class=\"img-responsive\"></div>\\n                    <div class=\"title red_background text-center\">\\n                        <h2>Galaxy A72</h2>\\n                    </div>\\n                </a>\\n            </div>\\n                        <div class=\"col-6 col-md-3 product-box mr-down-10 hvr-float-shadow\" data-toggle=\"tooltip\"\\n                data-placement=\"top\" title=\"\" data-original-title=\"Samsung Galaxy A52\"> <a\\n                    href=\"https://mob4me.com/samsung-galaxy-a52\">\\n                    <div class=\"img text-center\">\\n                        <img src=\"https://mob4me.com/Assets/front/images/mobile/galaxy-a52-medium.jpg\"\\n                            alt=\"Samsung Galaxy A52\" title=\"Samsung Galaxy A52\" class=\"img-responsive\"></div>\\n                    <div class=\"title red_background text-center\">\\n                        <h2>Galaxy A52</h2>\\n                    </div>\\n                </a>\\n            </div>\\n                        <div class=\"col-6 col-md-3 product-box mr-down-10 hvr-float-shadow\" data-toggle=\"tooltip\"\\n                data-placement=\"top\" title=\"\" data-original-title=\"Samsung Galaxy A02\"> <a\\n                    href=\"https://mob4me.com/samsung-galaxy-a02\">\\n                    <div class=\"img text-center\">\\n                        <img src=\"https://mob4me.com/Assets/front/images/mobile/galaxy-a02-medium.jpg\"\\n                            alt=\"Samsung Galaxy A02\" title=\"Samsung Galaxy A02\" class=\"img-responsive\"></div>\\n                    <div class=\"title red_background text-center\">\\n                        <h2>Galaxy A02</h2>\\n                    </div>\\n                </a>\\n            </div>\\n                        <div class=\"col-6 col-md-3 product-box mr-down-10 hvr-float-shadow\" data-toggle=\"tooltip\"\\n                data-placement=\"top\" title=\"\" data-original-title=\"Samsung Galaxy S21 Ultra 5G\"> <a\\n                    href=\"https://mob4me.com/samsung-galaxy-s21-ultra-5g\">\\n                    <div class=\"img text-center\">\\n                        <img src=\"https://mob4me.com/Assets/front/images/mobile/galaxy-s21-ultra-5g-medium.jpg\"\\n                            alt=\"Samsung Galaxy S21 Ultra 5G\" title=\"Samsung Galaxy S21 Ultra 5G\" class=\"img-responsive\"></div>\\n                    <div class=\"title red_background text-center\">\\n                        <h2>Galaxy S21 Ultra 5G</h2>\\n                    </div>\\n                </a>\\n            </div>\\n                        <div class=\"col-6 col-md-3 product-box mr-down-10 hvr-float-shadow\" data-toggle=\"tooltip\"\\n                data-placement=\"top\" title=\"\" data-original-title=\"Samsung Galaxy S21 Plus 5G\"> <a\\n                    href=\"https://mob4me.com/samsung-galaxy-s21-plus-5g\">\\n                    <div class=\"img text-center\">\\n                        <img src=\"https://mob4me.com/Assets/front/images/mobile/galaxy-s21-plus-5g-medium.jpg\"\\n                            alt=\"Samsung Galaxy S21 Plus 5G\" title=\"Samsung Galaxy S21 Plus 5G\" class=\"img-responsive\"></div>\\n                    <div class=\"title red_background text-center\">\\n                        <h2>Galaxy S21 Plus 5G</h2>\\n                    </div>\\n                </a>\\n            </div>\\n                    </div>\\n\\n        <div class=\"row text-right pad-right-30\">\\n            \\n            <div class=\"pagination text-center\">\\n                <a class=\"btn btn-info rightbtn me-3\" href=\"https://mob4me.com/samsung/1\"><i class=\"fa fa-angle-right\" aria-hidden=\"true\"></i> السابق</a>                <a class=\"btn btn-info leftbtn\" href=\"https://mob4me.com/samsung/3\">التالي <i class=\"fa fa-angle-left\" aria-hidden=\"true\"></i> </a>\\n              </div>\\n\\n        </div>\\n    </section>\\n            </div>\\n            <!-- left -->\\n            <div class=\"col-md-2 d-none d-sm-block\"><script async src=\"https://pagead2.googlesyndication.com/pagead/js/adsbygoogle.js\"></script>\\n    <!-- mobapp4me -->\\n    <ins class=\"adsbygoogle\"\\n         style=\"display:block\"\\n         data-ad-client=\"ca-pub-9079779688748490\"\\n         data-ad-slot=\"7758469207\"\\n         data-ad-format=\"auto\"\\n         data-full-width-responsive=\"true\"></ins>\\n    <script>\\n         (adsbygoogle = window.adsbygoogle || []).push({});\\n    </script>\\n<div class=\"space-10\"></div>\\n\\n<!-- mobapp4me -->\\n<ins class=\"adsbygoogle\"\\n     style=\"display:block\"\\n     data-ad-client=\"ca-pub-9079779688748490\"\\n     data-ad-slot=\"7758469207\"\\n     data-ad-format=\"auto\"\\n     data-full-width-responsive=\"true\"></ins>\\n<script>\\n     (adsbygoogle = window.adsbygoogle || []).push({});\\n</script>\\n</div>\\n        </div>\\n\\n        <!-- dealer box -->\\n        \\n    </div>\\n    <!-- footer start -->\\n\\n    <footer>\\n        <div class=\"container\"><div class=\"row\">\\r\\n    <div class=\"col-8 footer-links\">\\r\\n        <ul class=\"list-inline mr-top-20\">\\r\\n            <li class=\"list-inline-item\"><a href=\"https://mob4me.com\">الرئيسية</a></li>\\r\\n            <li class=\"list-inline-item\"><a href=\"https://mob4me.com/news\">الاخبار</a></li>\\r\\n            <li class=\"list-inline-item\"><a href=\"https://mob4me.com/agencies\">وكلاء</a></li>\\r\\n            <li class=\"list-inline-item\"><a href=\"https://mob4me.com/dealers\">تجار</a></li>\\r\\n            <li class=\"list-inline-item\"><a href=\"https://mob4me.com/used-mobiles\">سوق المستعمل</a></li>\\r\\n            <li class=\"list-inline-item\"><a href=\"https://mob4me.com/pages/contact-us\">اتصل بنا</a></li>\\r\\n            <li class=\"list-inline-item\"><a href=\"https://mob4me.com/pages/privacy-policy\">Privacy Policy</a></li>\\r\\n        </ul>\\r\\n    </div>\\r\\n    <div class=\"col-4\">\\r\\n        <div class=\"row\">\\r\\n            <div class=\"col-12\">\\r\\n                <img src=\"https://mob4me.com/Assets/front/images/logo_footer.jpg\" class=\"img-responsive pull-left\"\\r\\n                    alt=\"Mob4me\" title=\"Mob4me\">\\r\\n            </div>\\r\\n            <div class=\"col-12 text-white text-end\">\\r\\n                <small>جميع الحقوق محفوظة لموقع دليل سوق الموبايلات © 2008-\\r\\n                    2023 </small>\\r\\n            </div>\\r\\n            <div class=\"col-12 text-end text-white\">\\r\\n                <div class=\"row text-white\"> <small>تطوير و برمجة شركة <a href=\"http://qit-eg.com\"\\r\\n                            target=\"_blank\">QIT</a></small></div>\\r\\n            </div>\\r\\n        </div>\\r\\n    </div>\\r\\n\\r\\n</div>\\r\\n\\r\\n</div>\\n    </footer>\\n    <!-- footer end -->\\n\\n    <!-- jquery -->\\n    <script src=\"https://mob4me.com/Assets/front/js/jquery-3.1.1.min.js\"></script>\\n\\n    <!-- JS -->\\n    <script src=\"https://cdn.jsdelivr.net/npm/@popperjs/core@2.9.1/dist/umd/popper.min.js\" integrity=\"sha384-SR1sx49pcuLnqZUnnPwx6FCym0wLsk5JZuNx2bPPENzswTNFaQU1RDvt3wT4gWFG\" crossorigin=\"anonymous\">\\n    </script>\\n    <script src=\"https://mob4me.com/Assets/front/js/bootstrap/bootstrap.min.js\"></script>\\n    \\n    <script src=\"https://mob4me.com/Assets/front/js/search_autocomplete/bootstrap3-typeahead.min.js\"></script>\\n    <script src=\"https://mob4me.com/Assets/front/js/superplaceholder/superplaceholder.min.js\"></script>\\n    <script src=\"https://mob4me.com/Assets/front/js/customs.js\"></script>\\n\\n\\n    \\n\\n\\n\\n    <script>\\n    $(document).ready(function() {\\n        $(\\'[data-toggle=\"tooltip\"]\\').tooltip();\\n    });\\n</script>\\n</body>\\n\\n</html>\\n'"
      ]
     },
     "execution_count": 116,
     "metadata": {},
     "output_type": "execute_result"
    }
   ],
   "source": [
    "response.text"
   ]
  },
  {
   "cell_type": "code",
   "execution_count": 117,
   "id": "64e22572",
   "metadata": {},
   "outputs": [],
   "source": [
    "soup = BeautifulSoup(response.text, 'lxml')\n",
    "phone_anchors = soup.select('body > div.container > div > div > section > div:nth-child(2) > div > a')"
   ]
  },
  {
   "cell_type": "code",
   "execution_count": 118,
   "id": "98448b2f",
   "metadata": {},
   "outputs": [
    {
     "data": {
      "text/plain": [
       "'https://mob4me.com/samsung-galaxy-s22-plus-5g'"
      ]
     },
     "execution_count": 118,
     "metadata": {},
     "output_type": "execute_result"
    }
   ],
   "source": [
    "phone_anchors[0].get('href')"
   ]
  },
  {
   "cell_type": "code",
   "execution_count": 122,
   "id": "38df591e",
   "metadata": {},
   "outputs": [],
   "source": [
    "next_button = soup.select('a:contains(\"التالي\")')\n",
    "next_button_is_active = True if next_button else False "
   ]
  },
  {
   "cell_type": "code",
   "execution_count": 123,
   "id": "cb11fe0a",
   "metadata": {},
   "outputs": [
    {
     "data": {
      "text/plain": [
       "[<a class=\"btn btn-info leftbtn\" href=\"https://mob4me.com/samsung/3\">التالي <i aria-hidden=\"true\" class=\"fa fa-angle-left\"></i> </a>]"
      ]
     },
     "execution_count": 123,
     "metadata": {},
     "output_type": "execute_result"
    }
   ],
   "source": [
    "next_button"
   ]
  },
  {
   "cell_type": "code",
   "execution_count": null,
   "id": "3955dc30",
   "metadata": {},
   "outputs": [],
   "source": []
  }
 ],
 "metadata": {
  "kernelspec": {
   "display_name": "Python 3 (ipykernel)",
   "language": "python",
   "name": "python3"
  },
  "language_info": {
   "codemirror_mode": {
    "name": "ipython",
    "version": 3
   },
   "file_extension": ".py",
   "mimetype": "text/x-python",
   "name": "python",
   "nbconvert_exporter": "python",
   "pygments_lexer": "ipython3",
   "version": "3.10.5"
  }
 },
 "nbformat": 4,
 "nbformat_minor": 5
}
